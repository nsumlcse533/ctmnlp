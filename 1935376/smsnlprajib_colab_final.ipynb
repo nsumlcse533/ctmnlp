{
  "nbformat": 4,
  "nbformat_minor": 0,
  "metadata": {
    "kernelspec": {
      "name": "python3",
      "display_name": "Python 3"
    },
    "language_info": {
      "codemirror_mode": {
        "name": "ipython",
        "version": 3
      },
      "file_extension": ".py",
      "mimetype": "text/x-python",
      "name": "python",
      "nbconvert_exporter": "python",
      "pygments_lexer": "ipython3",
      "version": "3.7.5"
    },
    "colab": {
      "name": "smsnlprajib_colab.ipynb",
      "provenance": [],
      "collapsed_sections": [],
      "include_colab_link": true
    },
    "accelerator": "GPU"
  },
  "cells": [
    {
      "cell_type": "markdown",
      "metadata": {
        "id": "view-in-github",
        "colab_type": "text"
      },
      "source": [
        "<a href=\"https://colab.research.google.com/github/nsumlcse533/ctmnlp/blob/master/1935376/smsnlprajib_colab_final.ipynb\" target=\"_parent\"><img src=\"https://colab.research.google.com/assets/colab-badge.svg\" alt=\"Open In Colab\"/></a>"
      ]
    },
    {
      "cell_type": "markdown",
      "metadata": {
        "id": "HyOo9cTlcIPA",
        "colab_type": "text"
      },
      "source": [
        "# Step 1: Data Analysis"
      ]
    },
    {
      "cell_type": "code",
      "metadata": {
        "id": "zlWMVj9rkWk8",
        "colab_type": "code",
        "outputId": "12dc799b-0f0d-4a44-eb3b-bcb2e6c83b56",
        "colab": {
          "base_uri": "https://localhost:8080/",
          "height": 81
        }
      },
      "source": [
        "#a = []\n",
        "#while(1):\n",
        "#a.append(‘1’)\n",
        "#import tensorflow.compat.v1 as tf\n",
        "#tf.disable_v2_behavior()\n",
        "import tensorflow as tf\n",
        "print(tf.__version__)"
      ],
      "execution_count": 3,
      "outputs": [
        {
          "output_type": "display_data",
          "data": {
            "text/html": [
              "<p style=\"color: red;\">\n",
              "The default version of TensorFlow in Colab will soon switch to TensorFlow 2.x.<br>\n",
              "We recommend you <a href=\"https://www.tensorflow.org/guide/migrate\" target=\"_blank\">upgrade</a> now \n",
              "or ensure your notebook will continue to use TensorFlow 1.x via the <code>%tensorflow_version 1.x</code> magic:\n",
              "<a href=\"https://colab.research.google.com/notebooks/tensorflow_version.ipynb\" target=\"_blank\">more info</a>.</p>\n"
            ],
            "text/plain": [
              "<IPython.core.display.HTML object>"
            ]
          },
          "metadata": {
            "tags": []
          }
        },
        {
          "output_type": "stream",
          "text": [
            "1.15.0\n"
          ],
          "name": "stdout"
        }
      ]
    },
    {
      "cell_type": "code",
      "metadata": {
        "id": "ycnUDX2wuKQk",
        "colab_type": "code",
        "colab": {}
      },
      "source": [
        "#!pip uninstall tensorflow\n",
        "#!pip uninstall tensorflow-gpu\n",
        "#!pip install tensorflow==1.5\n",
        "#!pip install tensorflow-gpu==1.5\n",
        "#!pip install tensorflow-gpu==2.0.0-alpha0"
      ],
      "execution_count": 0,
      "outputs": []
    },
    {
      "cell_type": "code",
      "metadata": {
        "id": "MDsBTfw6cIPA",
        "colab_type": "code",
        "outputId": "138afef3-3dd4-4f5e-b473-0d40ac652da1",
        "colab": {
          "base_uri": "https://localhost:8080/",
          "height": 34
        }
      },
      "source": [
        "# Import Required Library and sysnc with gib\n",
        "\n",
        "import numpy as np \n",
        "import pandas as pd \n",
        "import matplotlib.pyplot as plt\n",
        "import seaborn as sns\n",
        "from collections import Counter\n",
        "import nltk\n",
        "#nltk.download('stopwords')\n",
        "from sklearn.model_selection import train_test_split\n",
        "from sklearn.feature_extraction.text import CountVectorizer\n",
        "from sklearn import feature_extraction, model_selection, naive_bayes, metrics, svm\n",
        "from sklearn.metrics import accuracy_score\n",
        "from sklearn.metrics import classification_report,confusion_matrix\n",
        "from sklearn.naive_bayes import MultinomialNB\n",
        "from sklearn.naive_bayes import BernoulliNB\n",
        "from sklearn.naive_bayes import GaussianNB\n",
        "\n",
        "# Try for RNN based on LSTM as per suggestion of SIR\n",
        "from keras.models import Model\n",
        "from keras.layers import SimpleRNN, LSTM, Activation, Dense, Dropout, Input, Embedding, Conv2D, ReLU, BatchNormalization\n",
        "from keras.models import Sequential\n",
        "from keras.optimizers import RMSprop\n",
        "from keras.preprocessing.text import Tokenizer\n",
        "from keras.preprocessing import sequence\n",
        "from keras.utils import to_categorical\n",
        "from keras.callbacks import EarlyStopping\n",
        "%matplotlib inline\n",
        "\n",
        "import warnings\n",
        "warnings.filterwarnings(\"ignore\")\n",
        "warnings.simplefilter(action='ignore', category=FutureWarning)\n",
        "\n",
        "#import tensorflow.compat.v1 as tf\n",
        "#tf.disable_v2_behavior()"
      ],
      "execution_count": 5,
      "outputs": [
        {
          "output_type": "stream",
          "text": [
            "Using TensorFlow backend.\n"
          ],
          "name": "stderr"
        }
      ]
    },
    {
      "cell_type": "code",
      "metadata": {
        "id": "09YUAiqVcIPA",
        "colab_type": "code",
        "outputId": "96f1e4ae-6398-4d92-d7a1-4be7405f1ed2",
        "colab": {
          "resources": {
            "http://localhost:8080/nbextensions/google.colab/files.js": {
              "data": "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",
              "ok": true,
              "headers": [
                [
                  "content-type",
                  "application/javascript"
                ]
              ],
              "status": 200,
              "status_text": ""
            }
          },
          "base_uri": "https://localhost:8080/",
          "height": 74
        }
      },
      "source": [
        "# load the dataset of SMS messages\n",
        "#url = 'https://github.com/nsumlcse533/ctmnlp/blob/master/1935376/SMSSpamCollection'\n",
        "#df1 = pd.read_table(url)\n",
        "#df = pd.read_table(url, header=None, encoding='utf-8')\n",
        "#df = pd.read_table(io.StringIO(uploaded['SMSSPamCollection'].decode('utf-8')))\n",
        "from google.colab import files\n",
        "uploaded = files.upload()\n"
      ],
      "execution_count": 6,
      "outputs": [
        {
          "output_type": "display_data",
          "data": {
            "text/html": [
              "\n",
              "     <input type=\"file\" id=\"files-bd65e42f-4923-4bc0-b9bd-08d7da6b254c\" name=\"files[]\" multiple disabled />\n",
              "     <output id=\"result-bd65e42f-4923-4bc0-b9bd-08d7da6b254c\">\n",
              "      Upload widget is only available when the cell has been executed in the\n",
              "      current browser session. Please rerun this cell to enable.\n",
              "      </output>\n",
              "      <script src=\"/nbextensions/google.colab/files.js\"></script> "
            ],
            "text/plain": [
              "<IPython.core.display.HTML object>"
            ]
          },
          "metadata": {
            "tags": []
          }
        },
        {
          "output_type": "stream",
          "text": [
            "Saving SMSSpamCollection to SMSSpamCollection\n"
          ],
          "name": "stdout"
        }
      ]
    },
    {
      "cell_type": "code",
      "metadata": {
        "id": "Jcujgi6McIQk",
        "colab_type": "code",
        "colab": {}
      },
      "source": [
        "import io\n",
        "df = pd.read_table(io.BytesIO(uploaded['SMSSpamCollection']))"
      ],
      "execution_count": 0,
      "outputs": []
    },
    {
      "cell_type": "code",
      "metadata": {
        "id": "lZZb4fWDcIQk",
        "colab_type": "code",
        "outputId": "99f19de9-b989-4aca-c9c7-9db35224862d",
        "colab": {
          "base_uri": "https://localhost:8080/",
          "height": 265
        }
      },
      "source": [
        "# print useful information about the dataset\n",
        "print(df.info())\n",
        "print(df.head(5))"
      ],
      "execution_count": 8,
      "outputs": [
        {
          "output_type": "stream",
          "text": [
            "<class 'pandas.core.frame.DataFrame'>\n",
            "RangeIndex: 5571 entries, 0 to 5570\n",
            "Data columns (total 2 columns):\n",
            "ham                                                                                                                5571 non-null object\n",
            "Go until jurong point, crazy.. Available only in bugis n great world la e buffet... Cine there got amore wat...    5571 non-null object\n",
            "dtypes: object(2)\n",
            "memory usage: 87.2+ KB\n",
            "None\n",
            "    ham Go until jurong point, crazy.. Available only in bugis n great world la e buffet... Cine there got amore wat...\n",
            "0   ham                      Ok lar... Joking wif u oni...                                                             \n",
            "1  spam  Free entry in 2 a wkly comp to win FA Cup fina...                                                             \n",
            "2   ham  U dun say so early hor... U c already then say...                                                             \n",
            "3   ham  Nah I don't think he goes to usf, he lives aro...                                                             \n",
            "4  spam  FreeMsg Hey there darling it's been 3 week's n...                                                             \n"
          ],
          "name": "stdout"
        }
      ]
    },
    {
      "cell_type": "code",
      "metadata": {
        "id": "M286wJvocIQk",
        "colab_type": "code",
        "outputId": "f4beb84f-8f9b-4106-b2bc-22d5ef49a39d",
        "colab": {
          "base_uri": "https://localhost:8080/",
          "height": 167
        }
      },
      "source": [
        "df.describe()"
      ],
      "execution_count": 9,
      "outputs": [
        {
          "output_type": "execute_result",
          "data": {
            "text/html": [
              "<div>\n",
              "<style scoped>\n",
              "    .dataframe tbody tr th:only-of-type {\n",
              "        vertical-align: middle;\n",
              "    }\n",
              "\n",
              "    .dataframe tbody tr th {\n",
              "        vertical-align: top;\n",
              "    }\n",
              "\n",
              "    .dataframe thead th {\n",
              "        text-align: right;\n",
              "    }\n",
              "</style>\n",
              "<table border=\"1\" class=\"dataframe\">\n",
              "  <thead>\n",
              "    <tr style=\"text-align: right;\">\n",
              "      <th></th>\n",
              "      <th>ham</th>\n",
              "      <th>Go until jurong point, crazy.. Available only in bugis n great world la e buffet... Cine there got amore wat...</th>\n",
              "    </tr>\n",
              "  </thead>\n",
              "  <tbody>\n",
              "    <tr>\n",
              "      <th>count</th>\n",
              "      <td>5571</td>\n",
              "      <td>5571</td>\n",
              "    </tr>\n",
              "    <tr>\n",
              "      <th>unique</th>\n",
              "      <td>2</td>\n",
              "      <td>5168</td>\n",
              "    </tr>\n",
              "    <tr>\n",
              "      <th>top</th>\n",
              "      <td>ham</td>\n",
              "      <td>Sorry, I'll call later</td>\n",
              "    </tr>\n",
              "    <tr>\n",
              "      <th>freq</th>\n",
              "      <td>4824</td>\n",
              "      <td>30</td>\n",
              "    </tr>\n",
              "  </tbody>\n",
              "</table>\n",
              "</div>"
            ],
            "text/plain": [
              "         ham Go until jurong point, crazy.. Available only in bugis n great world la e buffet... Cine there got amore wat...\n",
              "count   5571                                               5571                                                             \n",
              "unique     2                                               5168                                                             \n",
              "top      ham                             Sorry, I'll call later                                                             \n",
              "freq    4824                                                 30                                                             "
            ]
          },
          "metadata": {
            "tags": []
          },
          "execution_count": 9
        }
      ]
    },
    {
      "cell_type": "code",
      "metadata": {
        "id": "dDNvGbjtcIQk",
        "colab_type": "code",
        "outputId": "511014d3-7e23-4340-be36-b24a5db1774b",
        "colab": {
          "base_uri": "https://localhost:8080/",
          "height": 34
        }
      },
      "source": [
        "df.columns"
      ],
      "execution_count": 10,
      "outputs": [
        {
          "output_type": "execute_result",
          "data": {
            "text/plain": [
              "Index(['ham', 'Go until jurong point, crazy.. Available only in bugis n great world la e buffet... Cine there got amore wat...'], dtype='object')"
            ]
          },
          "metadata": {
            "tags": []
          },
          "execution_count": 10
        }
      ]
    },
    {
      "cell_type": "code",
      "metadata": {
        "id": "rR39tOFrcIQk",
        "colab_type": "code",
        "colab": {}
      },
      "source": [
        "# Rename of Columns from 0,1 to type,sms for better understanding\n",
        "df.columns = ['type','sms']"
      ],
      "execution_count": 0,
      "outputs": []
    },
    {
      "cell_type": "code",
      "metadata": {
        "id": "Z8Uu2BcBcIQk",
        "colab_type": "code",
        "outputId": "3fbf7917-3ae1-42f4-846f-fbacf74cba74",
        "colab": {
          "base_uri": "https://localhost:8080/",
          "height": 34
        }
      },
      "source": [
        "#Check if the column rename completed\n",
        "df.columns"
      ],
      "execution_count": 12,
      "outputs": [
        {
          "output_type": "execute_result",
          "data": {
            "text/plain": [
              "Index(['type', 'sms'], dtype='object')"
            ]
          },
          "metadata": {
            "tags": []
          },
          "execution_count": 12
        }
      ]
    },
    {
      "cell_type": "code",
      "metadata": {
        "id": "TrHxJiWkcIQk",
        "colab_type": "code",
        "outputId": "c643d26b-3fc6-4f44-b7e6-40b3c5293a53",
        "colab": {
          "base_uri": "https://localhost:8080/",
          "height": 197
        }
      },
      "source": [
        "#check the header data after column rename\n",
        "df.head(5)"
      ],
      "execution_count": 13,
      "outputs": [
        {
          "output_type": "execute_result",
          "data": {
            "text/html": [
              "<div>\n",
              "<style scoped>\n",
              "    .dataframe tbody tr th:only-of-type {\n",
              "        vertical-align: middle;\n",
              "    }\n",
              "\n",
              "    .dataframe tbody tr th {\n",
              "        vertical-align: top;\n",
              "    }\n",
              "\n",
              "    .dataframe thead th {\n",
              "        text-align: right;\n",
              "    }\n",
              "</style>\n",
              "<table border=\"1\" class=\"dataframe\">\n",
              "  <thead>\n",
              "    <tr style=\"text-align: right;\">\n",
              "      <th></th>\n",
              "      <th>type</th>\n",
              "      <th>sms</th>\n",
              "    </tr>\n",
              "  </thead>\n",
              "  <tbody>\n",
              "    <tr>\n",
              "      <th>0</th>\n",
              "      <td>ham</td>\n",
              "      <td>Ok lar... Joking wif u oni...</td>\n",
              "    </tr>\n",
              "    <tr>\n",
              "      <th>1</th>\n",
              "      <td>spam</td>\n",
              "      <td>Free entry in 2 a wkly comp to win FA Cup fina...</td>\n",
              "    </tr>\n",
              "    <tr>\n",
              "      <th>2</th>\n",
              "      <td>ham</td>\n",
              "      <td>U dun say so early hor... U c already then say...</td>\n",
              "    </tr>\n",
              "    <tr>\n",
              "      <th>3</th>\n",
              "      <td>ham</td>\n",
              "      <td>Nah I don't think he goes to usf, he lives aro...</td>\n",
              "    </tr>\n",
              "    <tr>\n",
              "      <th>4</th>\n",
              "      <td>spam</td>\n",
              "      <td>FreeMsg Hey there darling it's been 3 week's n...</td>\n",
              "    </tr>\n",
              "  </tbody>\n",
              "</table>\n",
              "</div>"
            ],
            "text/plain": [
              "   type                                                sms\n",
              "0   ham                      Ok lar... Joking wif u oni...\n",
              "1  spam  Free entry in 2 a wkly comp to win FA Cup fina...\n",
              "2   ham  U dun say so early hor... U c already then say...\n",
              "3   ham  Nah I don't think he goes to usf, he lives aro...\n",
              "4  spam  FreeMsg Hey there darling it's been 3 week's n..."
            ]
          },
          "metadata": {
            "tags": []
          },
          "execution_count": 13
        }
      ]
    },
    {
      "cell_type": "code",
      "metadata": {
        "id": "c9KNhk5TcIQk",
        "colab_type": "code",
        "outputId": "f6e83944-a1ae-4efc-a207-8e7210d1374a",
        "colab": {
          "base_uri": "https://localhost:8080/",
          "height": 167
        }
      },
      "source": [
        "#check the data type wise status\n",
        "df.groupby('type').describe()"
      ],
      "execution_count": 14,
      "outputs": [
        {
          "output_type": "execute_result",
          "data": {
            "text/html": [
              "<div>\n",
              "<style scoped>\n",
              "    .dataframe tbody tr th:only-of-type {\n",
              "        vertical-align: middle;\n",
              "    }\n",
              "\n",
              "    .dataframe tbody tr th {\n",
              "        vertical-align: top;\n",
              "    }\n",
              "\n",
              "    .dataframe thead tr th {\n",
              "        text-align: left;\n",
              "    }\n",
              "\n",
              "    .dataframe thead tr:last-of-type th {\n",
              "        text-align: right;\n",
              "    }\n",
              "</style>\n",
              "<table border=\"1\" class=\"dataframe\">\n",
              "  <thead>\n",
              "    <tr>\n",
              "      <th></th>\n",
              "      <th colspan=\"4\" halign=\"left\">sms</th>\n",
              "    </tr>\n",
              "    <tr>\n",
              "      <th></th>\n",
              "      <th>count</th>\n",
              "      <th>unique</th>\n",
              "      <th>top</th>\n",
              "      <th>freq</th>\n",
              "    </tr>\n",
              "    <tr>\n",
              "      <th>type</th>\n",
              "      <th></th>\n",
              "      <th></th>\n",
              "      <th></th>\n",
              "      <th></th>\n",
              "    </tr>\n",
              "  </thead>\n",
              "  <tbody>\n",
              "    <tr>\n",
              "      <th>ham</th>\n",
              "      <td>4824</td>\n",
              "      <td>4515</td>\n",
              "      <td>Sorry, I'll call later</td>\n",
              "      <td>30</td>\n",
              "    </tr>\n",
              "    <tr>\n",
              "      <th>spam</th>\n",
              "      <td>747</td>\n",
              "      <td>653</td>\n",
              "      <td>Please call our customer service representativ...</td>\n",
              "      <td>4</td>\n",
              "    </tr>\n",
              "  </tbody>\n",
              "</table>\n",
              "</div>"
            ],
            "text/plain": [
              "       sms                                                               \n",
              "     count unique                                                top freq\n",
              "type                                                                     \n",
              "ham   4824   4515                             Sorry, I'll call later   30\n",
              "spam   747    653  Please call our customer service representativ...    4"
            ]
          },
          "metadata": {
            "tags": []
          },
          "execution_count": 14
        }
      ]
    },
    {
      "cell_type": "code",
      "metadata": {
        "id": "GLVyYJdUcIQk",
        "colab_type": "code",
        "outputId": "0dd819d8-fe85-4599-aea2-165a87c2b507",
        "colab": {
          "base_uri": "https://localhost:8080/",
          "height": 197
        }
      },
      "source": [
        "#check the character length for each message to analyze typical lengh of ham or spam messages\n",
        "df['length'] = df['sms'].map(lambda text: len(text))\n",
        "df.head()"
      ],
      "execution_count": 15,
      "outputs": [
        {
          "output_type": "execute_result",
          "data": {
            "text/html": [
              "<div>\n",
              "<style scoped>\n",
              "    .dataframe tbody tr th:only-of-type {\n",
              "        vertical-align: middle;\n",
              "    }\n",
              "\n",
              "    .dataframe tbody tr th {\n",
              "        vertical-align: top;\n",
              "    }\n",
              "\n",
              "    .dataframe thead th {\n",
              "        text-align: right;\n",
              "    }\n",
              "</style>\n",
              "<table border=\"1\" class=\"dataframe\">\n",
              "  <thead>\n",
              "    <tr style=\"text-align: right;\">\n",
              "      <th></th>\n",
              "      <th>type</th>\n",
              "      <th>sms</th>\n",
              "      <th>length</th>\n",
              "    </tr>\n",
              "  </thead>\n",
              "  <tbody>\n",
              "    <tr>\n",
              "      <th>0</th>\n",
              "      <td>ham</td>\n",
              "      <td>Ok lar... Joking wif u oni...</td>\n",
              "      <td>29</td>\n",
              "    </tr>\n",
              "    <tr>\n",
              "      <th>1</th>\n",
              "      <td>spam</td>\n",
              "      <td>Free entry in 2 a wkly comp to win FA Cup fina...</td>\n",
              "      <td>155</td>\n",
              "    </tr>\n",
              "    <tr>\n",
              "      <th>2</th>\n",
              "      <td>ham</td>\n",
              "      <td>U dun say so early hor... U c already then say...</td>\n",
              "      <td>49</td>\n",
              "    </tr>\n",
              "    <tr>\n",
              "      <th>3</th>\n",
              "      <td>ham</td>\n",
              "      <td>Nah I don't think he goes to usf, he lives aro...</td>\n",
              "      <td>61</td>\n",
              "    </tr>\n",
              "    <tr>\n",
              "      <th>4</th>\n",
              "      <td>spam</td>\n",
              "      <td>FreeMsg Hey there darling it's been 3 week's n...</td>\n",
              "      <td>147</td>\n",
              "    </tr>\n",
              "  </tbody>\n",
              "</table>\n",
              "</div>"
            ],
            "text/plain": [
              "   type                                                sms  length\n",
              "0   ham                      Ok lar... Joking wif u oni...      29\n",
              "1  spam  Free entry in 2 a wkly comp to win FA Cup fina...     155\n",
              "2   ham  U dun say so early hor... U c already then say...      49\n",
              "3   ham  Nah I don't think he goes to usf, he lives aro...      61\n",
              "4  spam  FreeMsg Hey there darling it's been 3 week's n...     147"
            ]
          },
          "metadata": {
            "tags": []
          },
          "execution_count": 15
        }
      ]
    },
    {
      "cell_type": "code",
      "metadata": {
        "id": "q2diirSKcIQk",
        "colab_type": "code",
        "outputId": "10c806af-9b37-46e7-b01f-ed83fee76386",
        "colab": {
          "base_uri": "https://localhost:8080/",
          "height": 282
        }
      },
      "source": [
        "#Plot the sms length in histogram for analyze the length nature\n",
        "df.length.plot(bins=20, kind='hist')"
      ],
      "execution_count": 16,
      "outputs": [
        {
          "output_type": "execute_result",
          "data": {
            "text/plain": [
              "<matplotlib.axes._subplots.AxesSubplot at 0x7f4237896550>"
            ]
          },
          "metadata": {
            "tags": []
          },
          "execution_count": 16
        },
        {
          "output_type": "display_data",
          "data": {
            "image/png": "[encoded data removed]",
            "text/plain": [
              "<Figure size 432x288 with 1 Axes>"
            ]
          },
          "metadata": {
            "tags": []
          }
        }
      ]
    },
    {
      "cell_type": "code",
      "metadata": {
        "id": "g_NwqjpecIQk",
        "colab_type": "code",
        "outputId": "f49bb263-e829-4885-c914-8546f57a83dc",
        "colab": {
          "base_uri": "https://localhost:8080/",
          "height": 176
        }
      },
      "source": [
        "#Find the mean value for length\n",
        "df.length.describe()"
      ],
      "execution_count": 17,
      "outputs": [
        {
          "output_type": "execute_result",
          "data": {
            "text/plain": [
              "count    5571.000000\n",
              "mean       80.484473\n",
              "std        59.946894\n",
              "min         2.000000\n",
              "25%        36.000000\n",
              "50%        62.000000\n",
              "75%       122.000000\n",
              "max       910.000000\n",
              "Name: length, dtype: float64"
            ]
          },
          "metadata": {
            "tags": []
          },
          "execution_count": 17
        }
      ]
    },
    {
      "cell_type": "code",
      "metadata": {
        "id": "SIq6w5EOcIQk",
        "colab_type": "code",
        "outputId": "677ce503-c430-4115-e681-1e5d2479843a",
        "colab": {
          "base_uri": "https://localhost:8080/",
          "height": 52
        }
      },
      "source": [
        "#What is the long message?\n",
        "print(df.sms[df.length > 900])"
      ],
      "execution_count": 18,
      "outputs": [
        {
          "output_type": "stream",
          "text": [
            "1084    For me the love should start with attraction.i...\n",
            "Name: sms, dtype: object\n"
          ],
          "name": "stdout"
        }
      ]
    },
    {
      "cell_type": "code",
      "metadata": {
        "id": "bjzk3roZcIQk",
        "colab_type": "code",
        "outputId": "94b3ab1f-8e22-4e02-a4fa-bfb05171eb98",
        "colab": {
          "base_uri": "https://localhost:8080/",
          "height": 342
        }
      },
      "source": [
        "# Difference in message length between spam and ham.\n",
        "df.hist(column='length', by='type', bins=70)"
      ],
      "execution_count": 19,
      "outputs": [
        {
          "output_type": "execute_result",
          "data": {
            "text/plain": [
              "array([<matplotlib.axes._subplots.AxesSubplot object at 0x7f4237349860>,\n",
              "       <matplotlib.axes._subplots.AxesSubplot object at 0x7f42372fd080>],\n",
              "      dtype=object)"
            ]
          },
          "metadata": {
            "tags": []
          },
          "execution_count": 19
        },
        {
          "output_type": "display_data",
          "data": {
            "image/png": "[encoded data removed]",
            "text/plain": [
              "<Figure size 432x288 with 2 Axes>"
            ]
          },
          "metadata": {
            "tags": []
          }
        }
      ]
    },
    {
      "cell_type": "code",
      "metadata": {
        "id": "FtNaevaTcIQk",
        "colab_type": "code",
        "outputId": "c498dfe1-2329-42d2-938d-9596f1b4587b",
        "colab": {
          "base_uri": "https://localhost:8080/",
          "height": 294
        }
      },
      "source": [
        "#compare the types of HAM (non SPAM) vs SPAM\n",
        "sns.countplot(data = df, x= df[\"type\"]).set_title(\"Amount of spam and no-spam messages\")\n",
        "plt.show()"
      ],
      "execution_count": 20,
      "outputs": [
        {
          "output_type": "display_data",
          "data": {
            "image/png": "[encoded data removed]",
            "text/plain": [
              "<Figure size 432x288 with 1 Axes>"
            ]
          },
          "metadata": {
            "tags": []
          }
        }
      ]
    },
    {
      "cell_type": "code",
      "metadata": {
        "id": "D5-5Z-xIcIQk",
        "colab_type": "code",
        "outputId": "39dda487-e0e1-4a47-be2b-1d6ead398dfd",
        "colab": {
          "base_uri": "https://localhost:8080/",
          "height": 34
        }
      },
      "source": [
        "# count number of records\n",
        "df.shape"
      ],
      "execution_count": 21,
      "outputs": [
        {
          "output_type": "execute_result",
          "data": {
            "text/plain": [
              "(5571, 3)"
            ]
          },
          "metadata": {
            "tags": []
          },
          "execution_count": 21
        }
      ]
    },
    {
      "cell_type": "code",
      "metadata": {
        "id": "v8zmIwolcIQk",
        "colab_type": "code",
        "colab": {}
      },
      "source": [
        "df[df==np.inf]=np.nan\n",
        "df.fillna(df.mean(), inplace=True)"
      ],
      "execution_count": 0,
      "outputs": []
    },
    {
      "cell_type": "code",
      "metadata": {
        "id": "3mOMyp6tcIQk",
        "colab_type": "code",
        "colab": {}
      },
      "source": [
        "# check and remove duplicate\n",
        "df.drop_duplicates(inplace=True)"
      ],
      "execution_count": 0,
      "outputs": []
    },
    {
      "cell_type": "code",
      "metadata": {
        "id": "e2kXUw-lcIQk",
        "colab_type": "code",
        "outputId": "e85a02c8-f6b6-4b8a-8f01-dcd4ac42f8dc",
        "colab": {
          "base_uri": "https://localhost:8080/",
          "height": 34
        }
      },
      "source": [
        "# check after duplicate remove \n",
        "df.shape"
      ],
      "execution_count": 24,
      "outputs": [
        {
          "output_type": "execute_result",
          "data": {
            "text/plain": [
              "(5168, 3)"
            ]
          },
          "metadata": {
            "tags": []
          },
          "execution_count": 24
        }
      ]
    },
    {
      "cell_type": "code",
      "metadata": {
        "id": "UmSXrLj_cIQk",
        "colab_type": "code",
        "outputId": "115fdd8a-6b56-4a4f-ba47-9862a34e8cfc",
        "colab": {
          "base_uri": "https://localhost:8080/",
          "height": 294
        }
      },
      "source": [
        "#compare the types of HAM (non SPAM) vs SPAM after duplicate removal\n",
        "sns.countplot(data = df, x= df[\"type\"]).set_title(\"Amount of non duplicate spam and no-spam messages\")\n",
        "plt.show()"
      ],
      "execution_count": 25,
      "outputs": [
        {
          "output_type": "display_data",
          "data": {
            "image/png": "[encoded data removed]",
            "text/plain": [
              "<Figure size 432x288 with 1 Axes>"
            ]
          },
          "metadata": {
            "tags": []
          }
        }
      ]
    },
    {
      "cell_type": "code",
      "metadata": {
        "id": "e_egq3ZGcISI",
        "colab_type": "code",
        "outputId": "c1bd5cf3-d45e-4e20-c265-9f4384b36a66",
        "colab": {
          "base_uri": "https://localhost:8080/",
          "height": 87
        }
      },
      "source": [
        "# Find for missing data\n",
        "df.isnull().sum()"
      ],
      "execution_count": 26,
      "outputs": [
        {
          "output_type": "execute_result",
          "data": {
            "text/plain": [
              "type      0\n",
              "sms       0\n",
              "length    0\n",
              "dtype: int64"
            ]
          },
          "metadata": {
            "tags": []
          },
          "execution_count": 26
        }
      ]
    },
    {
      "cell_type": "code",
      "metadata": {
        "id": "ouFBDsMqcISI",
        "colab_type": "code",
        "outputId": "a89754ee-6fa0-40e0-adf6-69162900ab8d",
        "colab": {
          "base_uri": "https://localhost:8080/",
          "height": 70
        }
      },
      "source": [
        "df[\"type\"].value_counts()"
      ],
      "execution_count": 27,
      "outputs": [
        {
          "output_type": "execute_result",
          "data": {
            "text/plain": [
              "ham     4515\n",
              "spam     653\n",
              "Name: type, dtype: int64"
            ]
          },
          "metadata": {
            "tags": []
          },
          "execution_count": 27
        }
      ]
    },
    {
      "cell_type": "code",
      "metadata": {
        "id": "axseTO9GcISI",
        "colab_type": "code",
        "colab": {}
      },
      "source": [
        "#Text Analytics find the frequencies of words in the spam and non-spam messages\n",
        "count1 = Counter(\" \".join(df[df['type']=='ham'][\"sms\"]).split()).most_common(20)\n",
        "df1 = pd.DataFrame.from_dict(count1)\n",
        "df1 = df1.rename(columns={0: \"words in non-spam\", 1 : \"count\"})\n",
        "count2 = Counter(\" \".join(df[df['type']=='spam'][\"sms\"]).split()).most_common(20)\n",
        "df2 = pd.DataFrame.from_dict(count2)\n",
        "df2 = df2.rename(columns={0: \"words in spam\", 1 : \"count_\"})"
      ],
      "execution_count": 0,
      "outputs": []
    },
    {
      "cell_type": "code",
      "metadata": {
        "id": "uFL7nVDScISI",
        "colab_type": "code",
        "colab": {}
      },
      "source": [
        ""
      ],
      "execution_count": 0,
      "outputs": []
    },
    {
      "cell_type": "code",
      "metadata": {
        "id": "ItST5C0ScISI",
        "colab_type": "code",
        "outputId": "7fb09dad-b7de-4e16-8e82-79de732d90ba",
        "colab": {
          "base_uri": "https://localhost:8080/",
          "height": 621
        }
      },
      "source": [
        "#Most used words\n",
        "df1.plot.bar(legend = False)\n",
        "y_pos = np.arange(len(df1[\"words in non-spam\"]))\n",
        "plt.xticks(y_pos, df1[\"words in non-spam\"])\n",
        "plt.title('Most used words in non-spam messages')\n",
        "plt.xlabel('words')\n",
        "plt.ylabel('number')\n",
        "plt.show()\n",
        "df2.plot.bar(legend = False, color = 'orange')\n",
        "y_pos = np.arange(len(df2[\"words in spam\"]))\n",
        "plt.xticks(y_pos, df2[\"words in spam\"])\n",
        "plt.title('Most used words in spam messages')\n",
        "plt.xlabel('words')\n",
        "plt.ylabel('number')"
      ],
      "execution_count": 29,
      "outputs": [
        {
          "output_type": "display_data",
          "data": {
            "image/png": "[encoded data removed]",
            "text/plain": [
              "<Figure size 432x288 with 1 Axes>"
            ]
          },
          "metadata": {
            "tags": []
          }
        },
        {
          "output_type": "execute_result",
          "data": {
            "text/plain": [
              "Text(0, 0.5, 'number')"
            ]
          },
          "metadata": {
            "tags": []
          },
          "execution_count": 29
        },
        {
          "output_type": "display_data",
          "data": {
            "image/png": "[encoded data removed]",
            "text/plain": [
              "<Figure size 432x288 with 1 Axes>"
            ]
          },
          "metadata": {
            "tags": []
          }
        }
      ]
    },
    {
      "cell_type": "code",
      "metadata": {
        "id": "s6WRvG4GcISI",
        "colab_type": "code",
        "colab": {}
      },
      "source": [
        "# From above we find the majority of frequent words in both classes are stop words such as 'to', 'a', 'or' etc...."
      ],
      "execution_count": 0,
      "outputs": []
    },
    {
      "cell_type": "code",
      "metadata": {
        "id": "AfFw5nnFcISI",
        "colab_type": "code",
        "colab": {}
      },
      "source": [
        "#converting categorical data in numeric labels || split a message into its individual words\n",
        "# 0=ham,1=spam\n",
        "from sklearn.preprocessing import LabelEncoder\n",
        "encoder=LabelEncoder()\n",
        "classes=df[\"type\"]\n",
        "Y=encoder.fit_transform(classes)"
      ],
      "execution_count": 0,
      "outputs": []
    },
    {
      "cell_type": "code",
      "metadata": {
        "id": "VdnmHKevcISI",
        "colab_type": "code",
        "outputId": "0e350661-efad-40eb-d1f6-3bf6f6692ef7",
        "colab": {
          "base_uri": "https://localhost:8080/",
          "height": 123
        }
      },
      "source": [
        "text_messages=df[\"sms\"]\n",
        "text_messages.sample(5)"
      ],
      "execution_count": 32,
      "outputs": [
        {
          "output_type": "execute_result",
          "data": {
            "text/plain": [
              "935                            Then dun wear jeans lor...\n",
              "2932    Only 2% students solved this CAT question in '...\n",
              "1633      Yesterday its with me only . Now am going home.\n",
              "4001    He's just gonna worry for nothing. And he won'...\n",
              "4367    I like dis sweater fr mango but no more my siz...\n",
              "Name: sms, dtype: object"
            ]
          },
          "metadata": {
            "tags": []
          },
          "execution_count": 32
        }
      ]
    },
    {
      "cell_type": "code",
      "metadata": {
        "id": "CTnaipm7cISI",
        "colab_type": "code",
        "colab": {}
      },
      "source": [
        "# Remove regular expressions and stop words\n",
        "# using regular expressions to replace email addresses, URLs, phone numbers, other numbers\n",
        "\n",
        "# Replacing email addresses with 'email'\n",
        "processed = text_messages.str.replace(r'^.+@[^\\.].*\\.[a-z]{2,}$',\n",
        "                                 'emailaddress')\n",
        "\n",
        "# Replacing URLs with 'webaddress'\n",
        "processed = processed.str.replace(r'^http\\://[a-zA-Z0-9\\-\\.]+\\.[a-zA-Z]{2,3}(/\\S*)?$',\n",
        "                                  'webaddress')\n",
        "\n",
        "# Replacing money symbols with 'moneysymb' (£ can by typed with ALT key + 156)\n",
        "processed = processed.str.replace(r'£|\\$', 'moneysymbol')\n",
        "    \n",
        "# Replacing 10 digit phone numbers (formats include paranthesis, spaces, no spaces, dashes) with 'phonenumber'\n",
        "processed = processed.str.replace(r'^\\(?[\\d]{3}\\)?[\\s-]?[\\d]{3}[\\s-]?[\\d]{4}$',\n",
        "                                  'phonenumber')\n",
        "    \n",
        "# Replacing numbers with 'number'\n",
        "processed = processed.str.replace(r'\\d+(\\.\\d+)?', 'number')\n",
        "\n",
        "# Removing punctuation\n",
        "processed = processed.str.replace(r'[^\\w\\d\\s]', ' ')\n",
        "\n",
        "# Replacing whitespace between terms with a single space\n",
        "processed = processed.str.replace(r'\\s+', ' ')\n",
        "\n",
        "# Removing leading and trailing whitespace\n",
        "processed = processed.str.replace(r'^\\s+|\\s+?$', '')"
      ],
      "execution_count": 0,
      "outputs": []
    },
    {
      "cell_type": "markdown",
      "metadata": {
        "id": "uxBaKgimcISI",
        "colab_type": "text"
      },
      "source": [
        "# Step 2: Data preprocessing"
      ]
    },
    {
      "cell_type": "code",
      "metadata": {
        "id": "h2OaGChKcISI",
        "colab_type": "code",
        "colab": {}
      },
      "source": [
        "# Convert the raw sms (sequence of characters) into vectors (sequences of numbers)."
      ],
      "execution_count": 0,
      "outputs": []
    },
    {
      "cell_type": "code",
      "metadata": {
        "id": "lS4T4DDTcISI",
        "colab_type": "code",
        "outputId": "1f83be9f-037d-4e66-8bc6-1f4d923595a4",
        "colab": {
          "base_uri": "https://localhost:8080/",
          "height": 34
        }
      },
      "source": [
        "# remove the stop words in order to improve the analytics\n",
        "f = feature_extraction.text.CountVectorizer(stop_words = 'english')\n",
        "X = f.fit_transform(df[\"sms\"]) #data set\n",
        "np.shape(X)\n",
        "#created more than 8400 new features. The new feature  j  in the row  i  is equal to 1 if the word  wj  appears in the text example  i . It is zero if not."
      ],
      "execution_count": 35,
      "outputs": [
        {
          "output_type": "execute_result",
          "data": {
            "text/plain": [
              "(5168, 8442)"
            ]
          },
          "metadata": {
            "tags": []
          },
          "execution_count": 35
        }
      ]
    },
    {
      "cell_type": "code",
      "metadata": {
        "id": "m9SnpqC_cISI",
        "colab_type": "code",
        "outputId": "32f3540a-2e9d-4e8e-f8f9-7af46cec9151",
        "colab": {
          "base_uri": "https://localhost:8080/",
          "height": 52
        }
      },
      "source": [
        "# Here we transform the variable spam/non-spam into binary variable, \n",
        "Y=df[\"type\"].map({'spam':1,'ham':0}) #target\n",
        "#df[\"type\"]=df[\"type\"].map({'spam':1,'ham':0})\n",
        "#df[\"type\"].head(5)\n",
        "\n",
        "# then split target data set in training set (train test split function) and test set.we want 33% of data into the test set, \n",
        "# use randon_state=42 of same set of data every time and cosistent result\n",
        "\n",
        "X_train, X_test, y_train, y_test = model_selection.train_test_split(X, Y, test_size=0.33, random_state=42)\n",
        "print([np.shape(X_train), np.shape(X_test)])\n",
        "print([np.shape(y_train), np.shape(y_test)])"
      ],
      "execution_count": 36,
      "outputs": [
        {
          "output_type": "stream",
          "text": [
            "[(3462, 8442), (1706, 8442)]\n",
            "[(3462,), (1706,)]\n"
          ],
          "name": "stdout"
        }
      ]
    },
    {
      "cell_type": "code",
      "metadata": {
        "id": "vNcF1ZPPcISI",
        "colab_type": "code",
        "colab": {}
      },
      "source": [
        "# Multinomial naive bayes classifier"
      ],
      "execution_count": 0,
      "outputs": []
    },
    {
      "cell_type": "code",
      "metadata": {
        "id": "iNpR6eu-cISI",
        "colab_type": "code",
        "outputId": "ede404d5-98aa-4bdb-9877-b2a7417f5f7d",
        "colab": {
          "base_uri": "https://localhost:8080/",
          "height": 52
        }
      },
      "source": [
        "MultiNB = MultinomialNB()\n",
        "MultiNB.fit(X_train, y_train)\n",
        "print(MultiNB)\n",
        "y_pred=MultiNB.predict(X_test)\n",
        "print (accuracy_score(y_test, y_pred))"
      ],
      "execution_count": 38,
      "outputs": [
        {
          "output_type": "stream",
          "text": [
            "MultinomialNB(alpha=1.0, class_prior=None, fit_prior=True)\n",
            "0.9759671746776084\n"
          ],
          "name": "stdout"
        }
      ]
    },
    {
      "cell_type": "code",
      "metadata": {
        "id": "yx343SflcISI",
        "colab_type": "code",
        "outputId": "2a78b2ee-59e5-4387-9835-e108b64120bc",
        "colab": {
          "base_uri": "https://localhost:8080/",
          "height": 52
        }
      },
      "source": [
        "#Bernoulli \n",
        "BernNB = BernoulliNB(binarize=True)\n",
        "BernNB.fit(X_train, y_train)\n",
        "print(BernNB)\n",
        "y_pred=BernNB.predict(X_test)\n",
        "print (accuracy_score(y_test, y_pred))"
      ],
      "execution_count": 39,
      "outputs": [
        {
          "output_type": "stream",
          "text": [
            "BernoulliNB(alpha=1.0, binarize=True, class_prior=None, fit_prior=True)\n",
            "0.8704572098475967\n"
          ],
          "name": "stdout"
        }
      ]
    },
    {
      "cell_type": "code",
      "metadata": {
        "id": "eao-KN92cISI",
        "colab_type": "code",
        "colab": {}
      },
      "source": [
        "# we found that the accuracy score of Multinomial is very high, So bellow we will try to analyze bayes based on Multinomial"
      ],
      "execution_count": 0,
      "outputs": []
    },
    {
      "cell_type": "code",
      "metadata": {
        "id": "-ygsMaxRcISI",
        "colab_type": "code",
        "colab": {}
      },
      "source": [
        "array_alpha = np.arange(1/100000, 20, 0.11) #array creation routines based on numerical rangesnumpy.arange([start, ]stop, [step, ], dtype=None)\n",
        "# create some score set for test the result\n",
        "score_train = np.zeros(len(array_alpha)) \n",
        "score_test = np.zeros(len(array_alpha))\n",
        "recall_test = np.zeros(len(array_alpha))\n",
        "precision_test= np.zeros(len(array_alpha))\n",
        "count = 0\n",
        "for alpha in array_alpha:\n",
        "    bayes = naive_bayes.MultinomialNB(alpha=alpha)\n",
        "    bayes.fit(X_train, y_train)\n",
        "    score_train[count] = bayes.score(X_train, y_train)\n",
        "    score_test[count]= bayes.score(X_test, y_test)\n",
        "    recall_test[count] = metrics.recall_score(y_test, bayes.predict(X_test))\n",
        "    precision_test[count] = metrics.precision_score(y_test, bayes.predict(X_test))\n",
        "    count = count + 1"
      ],
      "execution_count": 0,
      "outputs": []
    },
    {
      "cell_type": "code",
      "metadata": {
        "id": "saF0jk7hcISI",
        "colab_type": "code",
        "outputId": "aea37b0a-07b2-4716-8947-e3c585e619f9",
        "colab": {
          "base_uri": "https://localhost:8080/",
          "height": 647
        }
      },
      "source": [
        "# Create matrix for test and pring different models\n",
        "matrix = np.matrix(np.c_[array_alpha, score_train, score_test, recall_test, precision_test])\n",
        "models = pd.DataFrame(data = matrix, columns = ['alpha', 'Train Accuracy', 'Test Accuracy', 'Test Recall', 'Test Precision'])\n",
        "models.head(n=20)"
      ],
      "execution_count": 42,
      "outputs": [
        {
          "output_type": "execute_result",
          "data": {
            "text/html": [
              "<div>\n",
              "<style scoped>\n",
              "    .dataframe tbody tr th:only-of-type {\n",
              "        vertical-align: middle;\n",
              "    }\n",
              "\n",
              "    .dataframe tbody tr th {\n",
              "        vertical-align: top;\n",
              "    }\n",
              "\n",
              "    .dataframe thead th {\n",
              "        text-align: right;\n",
              "    }\n",
              "</style>\n",
              "<table border=\"1\" class=\"dataframe\">\n",
              "  <thead>\n",
              "    <tr style=\"text-align: right;\">\n",
              "      <th></th>\n",
              "      <th>alpha</th>\n",
              "      <th>Train Accuracy</th>\n",
              "      <th>Test Accuracy</th>\n",
              "      <th>Test Recall</th>\n",
              "      <th>Test Precision</th>\n",
              "    </tr>\n",
              "  </thead>\n",
              "  <tbody>\n",
              "    <tr>\n",
              "      <th>0</th>\n",
              "      <td>0.00001</td>\n",
              "      <td>0.997400</td>\n",
              "      <td>0.965416</td>\n",
              "      <td>0.914027</td>\n",
              "      <td>0.834711</td>\n",
              "    </tr>\n",
              "    <tr>\n",
              "      <th>1</th>\n",
              "      <td>0.11001</td>\n",
              "      <td>0.996534</td>\n",
              "      <td>0.964244</td>\n",
              "      <td>0.941176</td>\n",
              "      <td>0.812500</td>\n",
              "    </tr>\n",
              "    <tr>\n",
              "      <th>2</th>\n",
              "      <td>0.22001</td>\n",
              "      <td>0.996245</td>\n",
              "      <td>0.966002</td>\n",
              "      <td>0.954751</td>\n",
              "      <td>0.814672</td>\n",
              "    </tr>\n",
              "    <tr>\n",
              "      <th>3</th>\n",
              "      <td>0.33001</td>\n",
              "      <td>0.996245</td>\n",
              "      <td>0.969519</td>\n",
              "      <td>0.950226</td>\n",
              "      <td>0.836653</td>\n",
              "    </tr>\n",
              "    <tr>\n",
              "      <th>4</th>\n",
              "      <td>0.44001</td>\n",
              "      <td>0.996245</td>\n",
              "      <td>0.970106</td>\n",
              "      <td>0.950226</td>\n",
              "      <td>0.840000</td>\n",
              "    </tr>\n",
              "    <tr>\n",
              "      <th>5</th>\n",
              "      <td>0.55001</td>\n",
              "      <td>0.995667</td>\n",
              "      <td>0.971278</td>\n",
              "      <td>0.950226</td>\n",
              "      <td>0.846774</td>\n",
              "    </tr>\n",
              "    <tr>\n",
              "      <th>6</th>\n",
              "      <td>0.66001</td>\n",
              "      <td>0.995378</td>\n",
              "      <td>0.972450</td>\n",
              "      <td>0.950226</td>\n",
              "      <td>0.853659</td>\n",
              "    </tr>\n",
              "    <tr>\n",
              "      <th>7</th>\n",
              "      <td>0.77001</td>\n",
              "      <td>0.995378</td>\n",
              "      <td>0.974209</td>\n",
              "      <td>0.936652</td>\n",
              "      <td>0.873418</td>\n",
              "    </tr>\n",
              "    <tr>\n",
              "      <th>8</th>\n",
              "      <td>0.88001</td>\n",
              "      <td>0.995378</td>\n",
              "      <td>0.973623</td>\n",
              "      <td>0.932127</td>\n",
              "      <td>0.872881</td>\n",
              "    </tr>\n",
              "    <tr>\n",
              "      <th>9</th>\n",
              "      <td>0.99001</td>\n",
              "      <td>0.995090</td>\n",
              "      <td>0.975381</td>\n",
              "      <td>0.932127</td>\n",
              "      <td>0.884120</td>\n",
              "    </tr>\n",
              "    <tr>\n",
              "      <th>10</th>\n",
              "      <td>1.10001</td>\n",
              "      <td>0.995378</td>\n",
              "      <td>0.977726</td>\n",
              "      <td>0.932127</td>\n",
              "      <td>0.899563</td>\n",
              "    </tr>\n",
              "    <tr>\n",
              "      <th>11</th>\n",
              "      <td>1.21001</td>\n",
              "      <td>0.995090</td>\n",
              "      <td>0.977726</td>\n",
              "      <td>0.927602</td>\n",
              "      <td>0.903084</td>\n",
              "    </tr>\n",
              "    <tr>\n",
              "      <th>12</th>\n",
              "      <td>1.32001</td>\n",
              "      <td>0.995090</td>\n",
              "      <td>0.978312</td>\n",
              "      <td>0.927602</td>\n",
              "      <td>0.907080</td>\n",
              "    </tr>\n",
              "    <tr>\n",
              "      <th>13</th>\n",
              "      <td>1.43001</td>\n",
              "      <td>0.994801</td>\n",
              "      <td>0.980070</td>\n",
              "      <td>0.927602</td>\n",
              "      <td>0.919283</td>\n",
              "    </tr>\n",
              "    <tr>\n",
              "      <th>14</th>\n",
              "      <td>1.54001</td>\n",
              "      <td>0.994223</td>\n",
              "      <td>0.980070</td>\n",
              "      <td>0.923077</td>\n",
              "      <td>0.923077</td>\n",
              "    </tr>\n",
              "    <tr>\n",
              "      <th>15</th>\n",
              "      <td>1.65001</td>\n",
              "      <td>0.994223</td>\n",
              "      <td>0.981243</td>\n",
              "      <td>0.923077</td>\n",
              "      <td>0.931507</td>\n",
              "    </tr>\n",
              "    <tr>\n",
              "      <th>16</th>\n",
              "      <td>1.76001</td>\n",
              "      <td>0.993645</td>\n",
              "      <td>0.981243</td>\n",
              "      <td>0.923077</td>\n",
              "      <td>0.931507</td>\n",
              "    </tr>\n",
              "    <tr>\n",
              "      <th>17</th>\n",
              "      <td>1.87001</td>\n",
              "      <td>0.993068</td>\n",
              "      <td>0.980657</td>\n",
              "      <td>0.918552</td>\n",
              "      <td>0.931193</td>\n",
              "    </tr>\n",
              "    <tr>\n",
              "      <th>18</th>\n",
              "      <td>1.98001</td>\n",
              "      <td>0.993068</td>\n",
              "      <td>0.981829</td>\n",
              "      <td>0.918552</td>\n",
              "      <td>0.939815</td>\n",
              "    </tr>\n",
              "    <tr>\n",
              "      <th>19</th>\n",
              "      <td>2.09001</td>\n",
              "      <td>0.993068</td>\n",
              "      <td>0.983001</td>\n",
              "      <td>0.918552</td>\n",
              "      <td>0.948598</td>\n",
              "    </tr>\n",
              "  </tbody>\n",
              "</table>\n",
              "</div>"
            ],
            "text/plain": [
              "      alpha  Train Accuracy  Test Accuracy  Test Recall  Test Precision\n",
              "0   0.00001        0.997400       0.965416     0.914027        0.834711\n",
              "1   0.11001        0.996534       0.964244     0.941176        0.812500\n",
              "2   0.22001        0.996245       0.966002     0.954751        0.814672\n",
              "3   0.33001        0.996245       0.969519     0.950226        0.836653\n",
              "4   0.44001        0.996245       0.970106     0.950226        0.840000\n",
              "5   0.55001        0.995667       0.971278     0.950226        0.846774\n",
              "6   0.66001        0.995378       0.972450     0.950226        0.853659\n",
              "7   0.77001        0.995378       0.974209     0.936652        0.873418\n",
              "8   0.88001        0.995378       0.973623     0.932127        0.872881\n",
              "9   0.99001        0.995090       0.975381     0.932127        0.884120\n",
              "10  1.10001        0.995378       0.977726     0.932127        0.899563\n",
              "11  1.21001        0.995090       0.977726     0.927602        0.903084\n",
              "12  1.32001        0.995090       0.978312     0.927602        0.907080\n",
              "13  1.43001        0.994801       0.980070     0.927602        0.919283\n",
              "14  1.54001        0.994223       0.980070     0.923077        0.923077\n",
              "15  1.65001        0.994223       0.981243     0.923077        0.931507\n",
              "16  1.76001        0.993645       0.981243     0.923077        0.931507\n",
              "17  1.87001        0.993068       0.980657     0.918552        0.931193\n",
              "18  1.98001        0.993068       0.981829     0.918552        0.939815\n",
              "19  2.09001        0.993068       0.983001     0.918552        0.948598"
            ]
          },
          "metadata": {
            "tags": []
          },
          "execution_count": 42
        }
      ]
    },
    {
      "cell_type": "code",
      "metadata": {
        "id": "epVoyrsHcISI",
        "colab_type": "code",
        "outputId": "a16361d8-3835-4ce0-c94d-ee7c4df16009",
        "colab": {
          "base_uri": "https://localhost:8080/",
          "height": 123
        }
      },
      "source": [
        "#find the model with the most test precision and details relation with other model\n",
        "best_index = models['Test Precision'].idxmax()\n",
        "models.iloc[best_index, :]"
      ],
      "execution_count": 43,
      "outputs": [
        {
          "output_type": "execute_result",
          "data": {
            "text/plain": [
              "alpha             11.770010\n",
              "Train Accuracy     0.978914\n",
              "Test Accuracy      0.971278\n",
              "Test Recall        0.778281\n",
              "Test Precision     1.000000\n",
              "Name: 107, dtype: float64"
            ]
          },
          "metadata": {
            "tags": []
          },
          "execution_count": 43
        }
      ]
    },
    {
      "cell_type": "code",
      "metadata": {
        "id": "5kcndx8ecISI",
        "colab_type": "code",
        "outputId": "1be06515-f6db-4441-a583-0106e96f5553",
        "colab": {
          "base_uri": "https://localhost:8080/",
          "height": 197
        }
      },
      "source": [
        "# So the selected best model does not produce any false positive, which is our goal.\n",
        "#Now find if there is more than one model with 100% precision !\n",
        "models[models['Test Precision']==1].head(n=5)"
      ],
      "execution_count": 44,
      "outputs": [
        {
          "output_type": "execute_result",
          "data": {
            "text/html": [
              "<div>\n",
              "<style scoped>\n",
              "    .dataframe tbody tr th:only-of-type {\n",
              "        vertical-align: middle;\n",
              "    }\n",
              "\n",
              "    .dataframe tbody tr th {\n",
              "        vertical-align: top;\n",
              "    }\n",
              "\n",
              "    .dataframe thead th {\n",
              "        text-align: right;\n",
              "    }\n",
              "</style>\n",
              "<table border=\"1\" class=\"dataframe\">\n",
              "  <thead>\n",
              "    <tr style=\"text-align: right;\">\n",
              "      <th></th>\n",
              "      <th>alpha</th>\n",
              "      <th>Train Accuracy</th>\n",
              "      <th>Test Accuracy</th>\n",
              "      <th>Test Recall</th>\n",
              "      <th>Test Precision</th>\n",
              "    </tr>\n",
              "  </thead>\n",
              "  <tbody>\n",
              "    <tr>\n",
              "      <th>107</th>\n",
              "      <td>11.77001</td>\n",
              "      <td>0.978914</td>\n",
              "      <td>0.971278</td>\n",
              "      <td>0.778281</td>\n",
              "      <td>1.0</td>\n",
              "    </tr>\n",
              "    <tr>\n",
              "      <th>108</th>\n",
              "      <td>11.88001</td>\n",
              "      <td>0.978914</td>\n",
              "      <td>0.971278</td>\n",
              "      <td>0.778281</td>\n",
              "      <td>1.0</td>\n",
              "    </tr>\n",
              "    <tr>\n",
              "      <th>109</th>\n",
              "      <td>11.99001</td>\n",
              "      <td>0.978914</td>\n",
              "      <td>0.971278</td>\n",
              "      <td>0.778281</td>\n",
              "      <td>1.0</td>\n",
              "    </tr>\n",
              "    <tr>\n",
              "      <th>110</th>\n",
              "      <td>12.10001</td>\n",
              "      <td>0.978914</td>\n",
              "      <td>0.971278</td>\n",
              "      <td>0.778281</td>\n",
              "      <td>1.0</td>\n",
              "    </tr>\n",
              "    <tr>\n",
              "      <th>111</th>\n",
              "      <td>12.21001</td>\n",
              "      <td>0.978047</td>\n",
              "      <td>0.971278</td>\n",
              "      <td>0.778281</td>\n",
              "      <td>1.0</td>\n",
              "    </tr>\n",
              "  </tbody>\n",
              "</table>\n",
              "</div>"
            ],
            "text/plain": [
              "        alpha  Train Accuracy  Test Accuracy  Test Recall  Test Precision\n",
              "107  11.77001        0.978914       0.971278     0.778281             1.0\n",
              "108  11.88001        0.978914       0.971278     0.778281             1.0\n",
              "109  11.99001        0.978914       0.971278     0.778281             1.0\n",
              "110  12.10001        0.978914       0.971278     0.778281             1.0\n",
              "111  12.21001        0.978047       0.971278     0.778281             1.0"
            ]
          },
          "metadata": {
            "tags": []
          },
          "execution_count": 44
        }
      ]
    },
    {
      "cell_type": "code",
      "metadata": {
        "id": "QAJdzgTVcISI",
        "colab_type": "code",
        "outputId": "ecc7adc9-2359-47b4-8b72-6082e3a3bf83",
        "colab": {
          "base_uri": "https://localhost:8080/",
          "height": 123
        }
      },
      "source": [
        "# Between these models with the highest possible precision, we are going to select which has more test accuracy.\n",
        "best_index = models[models['Test Precision']==1]['Test Accuracy'].idxmax()\n",
        "bayes = naive_bayes.MultinomialNB(alpha = array_alpha[best_index])\n",
        "bayes.fit(X_train, y_train)\n",
        "models.iloc[best_index, :]"
      ],
      "execution_count": 45,
      "outputs": [
        {
          "output_type": "execute_result",
          "data": {
            "text/plain": [
              "alpha             11.770010\n",
              "Train Accuracy     0.978914\n",
              "Test Accuracy      0.971278\n",
              "Test Recall        0.778281\n",
              "Test Precision     1.000000\n",
              "Name: 107, dtype: float64"
            ]
          },
          "metadata": {
            "tags": []
          },
          "execution_count": 45
        }
      ]
    },
    {
      "cell_type": "code",
      "metadata": {
        "id": "nbpklMpxcISI",
        "colab_type": "code",
        "outputId": "092cf630-7b63-44df-85e7-f289ad087f0b",
        "colab": {
          "base_uri": "https://localhost:8080/",
          "height": 107
        }
      },
      "source": [
        "#Confusion matrix with naive bayes classifier\n",
        "m_confusion_test = metrics.confusion_matrix(y_test, bayes.predict(X_test))\n",
        "pd.DataFrame(data = m_confusion_test, columns = ['Predicted 0', 'Predicted 1'],\n",
        "            index = ['Actual 0', 'Actual 1'])"
      ],
      "execution_count": 46,
      "outputs": [
        {
          "output_type": "execute_result",
          "data": {
            "text/html": [
              "<div>\n",
              "<style scoped>\n",
              "    .dataframe tbody tr th:only-of-type {\n",
              "        vertical-align: middle;\n",
              "    }\n",
              "\n",
              "    .dataframe tbody tr th {\n",
              "        vertical-align: top;\n",
              "    }\n",
              "\n",
              "    .dataframe thead th {\n",
              "        text-align: right;\n",
              "    }\n",
              "</style>\n",
              "<table border=\"1\" class=\"dataframe\">\n",
              "  <thead>\n",
              "    <tr style=\"text-align: right;\">\n",
              "      <th></th>\n",
              "      <th>Predicted 0</th>\n",
              "      <th>Predicted 1</th>\n",
              "    </tr>\n",
              "  </thead>\n",
              "  <tbody>\n",
              "    <tr>\n",
              "      <th>Actual 0</th>\n",
              "      <td>1485</td>\n",
              "      <td>0</td>\n",
              "    </tr>\n",
              "    <tr>\n",
              "      <th>Actual 1</th>\n",
              "      <td>49</td>\n",
              "      <td>172</td>\n",
              "    </tr>\n",
              "  </tbody>\n",
              "</table>\n",
              "</div>"
            ],
            "text/plain": [
              "          Predicted 0  Predicted 1\n",
              "Actual 0         1485            0\n",
              "Actual 1           49          172"
            ]
          },
          "metadata": {
            "tags": []
          },
          "execution_count": 46
        }
      ]
    },
    {
      "cell_type": "code",
      "metadata": {
        "id": "qflAvqGmcISI",
        "colab_type": "code",
        "outputId": "95d9056f-d48c-4fcf-f7cb-51d385656364",
        "colab": {
          "base_uri": "https://localhost:8080/",
          "height": 34
        }
      },
      "source": [
        "# Out of the 1485 actual instances of 'ham' (not spam), it predicted correctly all of them;\n",
        "# Out of the 172 actual instances of spam, it predicted correctly 136 of them.\n",
        "# The accuracy obtained from the confusion matrix, as the sum of the diagonal divided by the sum of all matrix entries:\n",
        "(m_confusion_test[0,0]+m_confusion_test[1,1])/np.sum(m_confusion_test)"
      ],
      "execution_count": 47,
      "outputs": [
        {
          "output_type": "execute_result",
          "data": {
            "text/plain": [
              "0.9712778429073857"
            ]
          },
          "metadata": {
            "tags": []
          },
          "execution_count": 47
        }
      ]
    },
    {
      "cell_type": "code",
      "metadata": {
        "id": "vxymqAIccISI",
        "colab_type": "code",
        "colab": {}
      },
      "source": [
        ""
      ],
      "execution_count": 0,
      "outputs": []
    },
    {
      "cell_type": "code",
      "metadata": {
        "id": "DfJgGvBUcISI",
        "colab_type": "code",
        "colab": {}
      },
      "source": [
        "#Support Venctor Machine Test, we will evaluate the accuracy, recall and precision of the model with the test set.\n",
        "# We train different models changing the regularization parameter C."
      ],
      "execution_count": 0,
      "outputs": []
    },
    {
      "cell_type": "code",
      "metadata": {
        "id": "zXK45vcacISI",
        "colab_type": "code",
        "colab": {}
      },
      "source": [
        "# import warnings filter due to getting warning as \"The default value of gamma will change from 'auto' to 'scale' in version 0.22 to account better for unscaled features. Set gamma explicitly to 'auto' or 'scale' to avoid this warning.\"\n",
        "from warnings import simplefilter\n",
        "# ignore all future warnings\n",
        "simplefilter(action='ignore', category=FutureWarning)\n",
        "\n",
        "list_C = np.arange(500, 2000, 100) #100000\n",
        "score_train = np.zeros(len(list_C))\n",
        "score_test = np.zeros(len(list_C))\n",
        "recall_test = np.zeros(len(list_C))\n",
        "precision_test= np.zeros(len(list_C))\n",
        "count = 0\n",
        "for C in list_C:\n",
        "    svc = svm.SVC(C=C)\n",
        "    svc.fit(X_train, y_train)\n",
        "    score_train[count] = svc.score(X_train, y_train)\n",
        "    score_test[count]= svc.score(X_test, y_test)\n",
        "    recall_test[count] = metrics.recall_score(y_test, svc.predict(X_test))\n",
        "    precision_test[count] = metrics.precision_score(y_test, svc.predict(X_test))\n",
        "    count = count + 1"
      ],
      "execution_count": 0,
      "outputs": []
    },
    {
      "cell_type": "code",
      "metadata": {
        "id": "a4PAFEW0cISI",
        "colab_type": "code",
        "outputId": "03fb83c6-b1c2-4eb1-e110-c0b50e6a973e",
        "colab": {
          "base_uri": "https://localhost:8080/",
          "height": 197
        }
      },
      "source": [
        "# Create matrix for test and pring different models\n",
        "matrix = np.matrix(np.c_[list_C, score_train, score_test, recall_test, precision_test])\n",
        "models = pd.DataFrame(data = matrix, columns = \n",
        "             ['C', 'Train Accuracy', 'Test Accuracy', 'Test Recall', 'Test Precision'])\n",
        "models.head(n=5)"
      ],
      "execution_count": 50,
      "outputs": [
        {
          "output_type": "execute_result",
          "data": {
            "text/html": [
              "<div>\n",
              "<style scoped>\n",
              "    .dataframe tbody tr th:only-of-type {\n",
              "        vertical-align: middle;\n",
              "    }\n",
              "\n",
              "    .dataframe tbody tr th {\n",
              "        vertical-align: top;\n",
              "    }\n",
              "\n",
              "    .dataframe thead th {\n",
              "        text-align: right;\n",
              "    }\n",
              "</style>\n",
              "<table border=\"1\" class=\"dataframe\">\n",
              "  <thead>\n",
              "    <tr style=\"text-align: right;\">\n",
              "      <th></th>\n",
              "      <th>C</th>\n",
              "      <th>Train Accuracy</th>\n",
              "      <th>Test Accuracy</th>\n",
              "      <th>Test Recall</th>\n",
              "      <th>Test Precision</th>\n",
              "    </tr>\n",
              "  </thead>\n",
              "  <tbody>\n",
              "    <tr>\n",
              "      <th>0</th>\n",
              "      <td>500.0</td>\n",
              "      <td>0.993356</td>\n",
              "      <td>0.981243</td>\n",
              "      <td>0.859729</td>\n",
              "      <td>0.994764</td>\n",
              "    </tr>\n",
              "    <tr>\n",
              "      <th>1</th>\n",
              "      <td>600.0</td>\n",
              "      <td>0.993934</td>\n",
              "      <td>0.981829</td>\n",
              "      <td>0.864253</td>\n",
              "      <td>0.994792</td>\n",
              "    </tr>\n",
              "    <tr>\n",
              "      <th>2</th>\n",
              "      <td>700.0</td>\n",
              "      <td>0.995667</td>\n",
              "      <td>0.981829</td>\n",
              "      <td>0.864253</td>\n",
              "      <td>0.994792</td>\n",
              "    </tr>\n",
              "    <tr>\n",
              "      <th>3</th>\n",
              "      <td>800.0</td>\n",
              "      <td>0.996534</td>\n",
              "      <td>0.981829</td>\n",
              "      <td>0.864253</td>\n",
              "      <td>0.994792</td>\n",
              "    </tr>\n",
              "    <tr>\n",
              "      <th>4</th>\n",
              "      <td>900.0</td>\n",
              "      <td>0.997111</td>\n",
              "      <td>0.981829</td>\n",
              "      <td>0.864253</td>\n",
              "      <td>0.994792</td>\n",
              "    </tr>\n",
              "  </tbody>\n",
              "</table>\n",
              "</div>"
            ],
            "text/plain": [
              "       C  Train Accuracy  Test Accuracy  Test Recall  Test Precision\n",
              "0  500.0        0.993356       0.981243     0.859729        0.994764\n",
              "1  600.0        0.993934       0.981829     0.864253        0.994792\n",
              "2  700.0        0.995667       0.981829     0.864253        0.994792\n",
              "3  800.0        0.996534       0.981829     0.864253        0.994792\n",
              "4  900.0        0.997111       0.981829     0.864253        0.994792"
            ]
          },
          "metadata": {
            "tags": []
          },
          "execution_count": 50
        }
      ]
    },
    {
      "cell_type": "code",
      "metadata": {
        "id": "x5nXR0DlcISI",
        "colab_type": "code",
        "outputId": "bf9af0c4-8047-4866-a6c0-0ebee824fea7",
        "colab": {
          "base_uri": "https://localhost:8080/",
          "height": 123
        }
      },
      "source": [
        "# select the model with the most test precision\n",
        "best_index = models['Test Precision'].idxmax()\n",
        "models.iloc[best_index, :]"
      ],
      "execution_count": 51,
      "outputs": [
        {
          "output_type": "execute_result",
          "data": {
            "text/plain": [
              "C                 600.000000\n",
              "Train Accuracy      0.993934\n",
              "Test Accuracy       0.981829\n",
              "Test Recall         0.864253\n",
              "Test Precision      0.994792\n",
              "Name: 1, dtype: float64"
            ]
          },
          "metadata": {
            "tags": []
          },
          "execution_count": 51
        }
      ]
    },
    {
      "cell_type": "code",
      "metadata": {
        "id": "HhT_bFUucITs",
        "colab_type": "code",
        "outputId": "5d7c42c8-21b5-4bfe-aa3e-1a4df6589c2c",
        "colab": {
          "base_uri": "https://localhost:8080/",
          "height": 197
        }
      },
      "source": [
        "# here also our best model does not produce any false positive, which is our goal.\n",
        "# we will find if there is more than one model with 100% precision !\n",
        "models[models['Test Precision']>0.99].head(n=5)"
      ],
      "execution_count": 52,
      "outputs": [
        {
          "output_type": "execute_result",
          "data": {
            "text/html": [
              "<div>\n",
              "<style scoped>\n",
              "    .dataframe tbody tr th:only-of-type {\n",
              "        vertical-align: middle;\n",
              "    }\n",
              "\n",
              "    .dataframe tbody tr th {\n",
              "        vertical-align: top;\n",
              "    }\n",
              "\n",
              "    .dataframe thead th {\n",
              "        text-align: right;\n",
              "    }\n",
              "</style>\n",
              "<table border=\"1\" class=\"dataframe\">\n",
              "  <thead>\n",
              "    <tr style=\"text-align: right;\">\n",
              "      <th></th>\n",
              "      <th>C</th>\n",
              "      <th>Train Accuracy</th>\n",
              "      <th>Test Accuracy</th>\n",
              "      <th>Test Recall</th>\n",
              "      <th>Test Precision</th>\n",
              "    </tr>\n",
              "  </thead>\n",
              "  <tbody>\n",
              "    <tr>\n",
              "      <th>0</th>\n",
              "      <td>500.0</td>\n",
              "      <td>0.993356</td>\n",
              "      <td>0.981243</td>\n",
              "      <td>0.859729</td>\n",
              "      <td>0.994764</td>\n",
              "    </tr>\n",
              "    <tr>\n",
              "      <th>1</th>\n",
              "      <td>600.0</td>\n",
              "      <td>0.993934</td>\n",
              "      <td>0.981829</td>\n",
              "      <td>0.864253</td>\n",
              "      <td>0.994792</td>\n",
              "    </tr>\n",
              "    <tr>\n",
              "      <th>2</th>\n",
              "      <td>700.0</td>\n",
              "      <td>0.995667</td>\n",
              "      <td>0.981829</td>\n",
              "      <td>0.864253</td>\n",
              "      <td>0.994792</td>\n",
              "    </tr>\n",
              "    <tr>\n",
              "      <th>3</th>\n",
              "      <td>800.0</td>\n",
              "      <td>0.996534</td>\n",
              "      <td>0.981829</td>\n",
              "      <td>0.864253</td>\n",
              "      <td>0.994792</td>\n",
              "    </tr>\n",
              "    <tr>\n",
              "      <th>4</th>\n",
              "      <td>900.0</td>\n",
              "      <td>0.997111</td>\n",
              "      <td>0.981829</td>\n",
              "      <td>0.864253</td>\n",
              "      <td>0.994792</td>\n",
              "    </tr>\n",
              "  </tbody>\n",
              "</table>\n",
              "</div>"
            ],
            "text/plain": [
              "       C  Train Accuracy  Test Accuracy  Test Recall  Test Precision\n",
              "0  500.0        0.993356       0.981243     0.859729        0.994764\n",
              "1  600.0        0.993934       0.981829     0.864253        0.994792\n",
              "2  700.0        0.995667       0.981829     0.864253        0.994792\n",
              "3  800.0        0.996534       0.981829     0.864253        0.994792\n",
              "4  900.0        0.997111       0.981829     0.864253        0.994792"
            ]
          },
          "metadata": {
            "tags": []
          },
          "execution_count": 52
        }
      ]
    },
    {
      "cell_type": "code",
      "metadata": {
        "id": "uiYCi-NAcITs",
        "colab_type": "code",
        "outputId": "8d8e2556-64ce-4ef9-a92f-178b96d1c27b",
        "colab": {
          "base_uri": "https://localhost:8080/",
          "height": 123
        }
      },
      "source": [
        "# compare these models with the highest possible precision.\n",
        "best_index = models[models['Test Precision']>0.99]['Test Accuracy'].idxmax()\n",
        "svc = svm.SVC(C=list_C[best_index])\n",
        "svc.fit(X_train, y_train)\n",
        "models.iloc[best_index, :]"
      ],
      "execution_count": 53,
      "outputs": [
        {
          "output_type": "execute_result",
          "data": {
            "text/plain": [
              "C                 600.000000\n",
              "Train Accuracy      0.993934\n",
              "Test Accuracy       0.981829\n",
              "Test Recall         0.864253\n",
              "Test Precision      0.994792\n",
              "Name: 1, dtype: float64"
            ]
          },
          "metadata": {
            "tags": []
          },
          "execution_count": 53
        }
      ]
    },
    {
      "cell_type": "code",
      "metadata": {
        "id": "12XRhQ4FcITs",
        "colab_type": "code",
        "outputId": "0fe8e49c-39cc-4412-94bc-97f47d035631",
        "colab": {
          "base_uri": "https://localhost:8080/",
          "height": 107
        }
      },
      "source": [
        "# Confusion matrix with support vector machine classifier.\n",
        "svm_confusion_test = metrics.confusion_matrix(y_test, svc.predict(X_test))\n",
        "pd.DataFrame(data = svm_confusion_test, columns = ['Predicted 0', 'Predicted 1'],\n",
        "            index = ['Actual 0', 'Actual 1'])"
      ],
      "execution_count": 54,
      "outputs": [
        {
          "output_type": "execute_result",
          "data": {
            "text/html": [
              "<div>\n",
              "<style scoped>\n",
              "    .dataframe tbody tr th:only-of-type {\n",
              "        vertical-align: middle;\n",
              "    }\n",
              "\n",
              "    .dataframe tbody tr th {\n",
              "        vertical-align: top;\n",
              "    }\n",
              "\n",
              "    .dataframe thead th {\n",
              "        text-align: right;\n",
              "    }\n",
              "</style>\n",
              "<table border=\"1\" class=\"dataframe\">\n",
              "  <thead>\n",
              "    <tr style=\"text-align: right;\">\n",
              "      <th></th>\n",
              "      <th>Predicted 0</th>\n",
              "      <th>Predicted 1</th>\n",
              "    </tr>\n",
              "  </thead>\n",
              "  <tbody>\n",
              "    <tr>\n",
              "      <th>Actual 0</th>\n",
              "      <td>1484</td>\n",
              "      <td>1</td>\n",
              "    </tr>\n",
              "    <tr>\n",
              "      <th>Actual 1</th>\n",
              "      <td>30</td>\n",
              "      <td>191</td>\n",
              "    </tr>\n",
              "  </tbody>\n",
              "</table>\n",
              "</div>"
            ],
            "text/plain": [
              "          Predicted 0  Predicted 1\n",
              "Actual 0         1484            1\n",
              "Actual 1           30          191"
            ]
          },
          "metadata": {
            "tags": []
          },
          "execution_count": 54
        }
      ]
    },
    {
      "cell_type": "code",
      "metadata": {
        "id": "JMgpAB6jcITs",
        "colab_type": "code",
        "outputId": "52de1cfc-be7c-48af-9857-19f19fd33801",
        "colab": {
          "base_uri": "https://localhost:8080/",
          "height": 34
        }
      },
      "source": [
        "# Out of the 1482 actual instances of 'ham' (not spam), it predicted correctly all of them;\n",
        "# Out of the 189 actual instances of spam, it predicted correctly 154 of them.\n",
        "# The accuracy obtained from the confusion matrix, as the sum of the diagonal divided by the sum of all matrix entries:\n",
        "(svm_confusion_test[0,0]+svm_confusion_test[1,1])/np.sum(svm_confusion_test)"
      ],
      "execution_count": 55,
      "outputs": [
        {
          "output_type": "execute_result",
          "data": {
            "text/plain": [
              "0.9818288393903869"
            ]
          },
          "metadata": {
            "tags": []
          },
          "execution_count": 55
        }
      ]
    },
    {
      "cell_type": "code",
      "metadata": {
        "id": "0wJsY_MNcITs",
        "colab_type": "code",
        "colab": {}
      },
      "source": [
        "# After comparing the NB and SVM, we found that support vector machine with more than 98% accuracy(NB=0.9742086752637749 || SVM = 0.9894841735052755)."
      ],
      "execution_count": 0,
      "outputs": []
    },
    {
      "cell_type": "code",
      "metadata": {
        "id": "xQOkpAKscITs",
        "colab_type": "code",
        "colab": {}
      },
      "source": [
        "# we will now LSTM ''' and RNN"
      ],
      "execution_count": 0,
      "outputs": []
    },
    {
      "cell_type": "code",
      "metadata": {
        "id": "4ZXOCCcacITs",
        "colab_type": "code",
        "colab": {}
      },
      "source": [
        ""
      ],
      "execution_count": 0,
      "outputs": []
    },
    {
      "cell_type": "code",
      "metadata": {
        "id": "MnJniX3qxmDw",
        "colab_type": "code",
        "colab": {}
      },
      "source": [
        "#import tensorflow.compat.v1 as tf\n",
        "#tf.disable_v2_behavior()"
      ],
      "execution_count": 0,
      "outputs": []
    },
    {
      "cell_type": "code",
      "metadata": {
        "id": "pRc1hLVjXiug",
        "colab_type": "code",
        "colab": {}
      },
      "source": [
        ""
      ],
      "execution_count": 0,
      "outputs": []
    },
    {
      "cell_type": "code",
      "metadata": {
        "id": "VzJaEzAvcITs",
        "colab_type": "code",
        "colab": {}
      },
      "source": [
        "max_words = 1000\n",
        "max_len = 150\n"
      ],
      "execution_count": 0,
      "outputs": []
    },
    {
      "cell_type": "code",
      "metadata": {
        "id": "QvfB_5HhMDfS",
        "colab_type": "code",
        "colab": {}
      },
      "source": [
        "#Check if the GPU is available\n",
        "#import tensorflow as tf\n",
        "#print(tf.__version__)\n",
        "#device_name = tf.test.gpu_device_name()\n",
        "\n",
        "#if device_name != '/device:GPU:0':\n",
        "#  raise SystemError('GPU device not found')\n",
        "#print('Found GPU at: {}'.format(device_name))\n",
        "#from tensorflow.keras.layers import Conv2D, Flatten, MaxPooling2D, Dropout, BatchNormalization"
      ],
      "execution_count": 0,
      "outputs": []
    },
    {
      "cell_type": "code",
      "metadata": {
        "id": "aMJ80rK1cITs",
        "colab_type": "code",
        "outputId": "7b102409-59e9-4172-e908-4dabe2c5fe0d",
        "colab": {
          "base_uri": "https://localhost:8080/",
          "height": 745
        }
      },
      "source": [
        "#Usnig LSTM_SIGMOID\n",
        "#with tf.device(\"/gpu:0\"):\n",
        "model = Sequential()\n",
        "model.add(Embedding(max_words, 32))\n",
        "#model.add(Embedding(1000, 64, input_length=10))\n",
        "model.add(LSTM(32))\n",
        "model.add(Dense(1, activation='sigmoid'))\n",
        "model.compile(optimizer='rmsprop', loss='binary_crossentropy', metrics=['acc'])\n",
        "history_ltsm = model.fit(X_train, y_train, epochs=20, batch_size=60, validation_split=0.2)"
      ],
      "execution_count": 65,
      "outputs": [
        {
          "output_type": "stream",
          "text": [
            "Train on 2769 samples, validate on 693 samples\n",
            "Epoch 1/20\n",
            "2769/2769 [==============================] - 519s 188ms/step - loss: 0.4207 - acc: 0.8693 - val_loss: 0.3275 - val_acc: 0.8990\n",
            "Epoch 2/20\n",
            "2769/2769 [==============================] - 494s 178ms/step - loss: 0.3891 - acc: 0.8693 - val_loss: 0.3320 - val_acc: 0.8990\n",
            "Epoch 3/20\n",
            "2769/2769 [==============================] - 489s 177ms/step - loss: 0.3900 - acc: 0.8693 - val_loss: 0.3288 - val_acc: 0.8990\n",
            "Epoch 4/20\n",
            "2769/2769 [==============================] - 488s 176ms/step - loss: 0.3891 - acc: 0.8693 - val_loss: 0.3351 - val_acc: 0.8990\n",
            "Epoch 5/20\n",
            "2769/2769 [==============================] - 488s 176ms/step - loss: 0.3888 - acc: 0.8693 - val_loss: 0.3417 - val_acc: 0.8990\n",
            "Epoch 6/20\n",
            "2769/2769 [==============================] - 484s 175ms/step - loss: 0.3886 - acc: 0.8693 - val_loss: 0.3282 - val_acc: 0.8990\n",
            "Epoch 7/20\n",
            "2769/2769 [==============================] - 486s 175ms/step - loss: 0.3889 - acc: 0.8693 - val_loss: 0.3316 - val_acc: 0.8990\n",
            "Epoch 8/20\n",
            "2769/2769 [==============================] - 489s 177ms/step - loss: 0.3887 - acc: 0.8693 - val_loss: 0.3313 - val_acc: 0.8990\n",
            "Epoch 9/20\n",
            "2769/2769 [==============================] - 486s 176ms/step - loss: 0.3891 - acc: 0.8693 - val_loss: 0.3365 - val_acc: 0.8990\n",
            "Epoch 10/20\n",
            "2769/2769 [==============================] - 485s 175ms/step - loss: 0.3893 - acc: 0.8693 - val_loss: 0.3360 - val_acc: 0.8990\n",
            "Epoch 11/20\n",
            "2769/2769 [==============================] - 484s 175ms/step - loss: 0.3886 - acc: 0.8693 - val_loss: 0.3330 - val_acc: 0.8990\n",
            "Epoch 12/20\n",
            "2769/2769 [==============================] - 484s 175ms/step - loss: 0.3890 - acc: 0.8693 - val_loss: 0.3402 - val_acc: 0.8990\n",
            "Epoch 13/20\n",
            "2769/2769 [==============================] - 483s 174ms/step - loss: 0.3887 - acc: 0.8693 - val_loss: 0.3330 - val_acc: 0.8990\n",
            "Epoch 14/20\n",
            "2769/2769 [==============================] - 483s 175ms/step - loss: 0.3886 - acc: 0.8693 - val_loss: 0.3305 - val_acc: 0.8990\n",
            "Epoch 15/20\n",
            "2769/2769 [==============================] - 484s 175ms/step - loss: 0.3885 - acc: 0.8693 - val_loss: 0.3290 - val_acc: 0.8990\n",
            "Epoch 16/20\n",
            "2769/2769 [==============================] - 484s 175ms/step - loss: 0.3886 - acc: 0.8693 - val_loss: 0.3304 - val_acc: 0.8990\n",
            "Epoch 17/20\n",
            "2769/2769 [==============================] - 484s 175ms/step - loss: 0.3883 - acc: 0.8693 - val_loss: 0.3313 - val_acc: 0.8990\n",
            "Epoch 18/20\n",
            "2769/2769 [==============================] - 484s 175ms/step - loss: 0.3885 - acc: 0.8693 - val_loss: 0.3383 - val_acc: 0.8990\n",
            "Epoch 19/20\n",
            "2769/2769 [==============================] - 483s 174ms/step - loss: 0.3886 - acc: 0.8693 - val_loss: 0.3294 - val_acc: 0.8990\n",
            "Epoch 20/20\n",
            "2769/2769 [==============================] - 483s 174ms/step - loss: 0.3889 - acc: 0.8693 - val_loss: 0.3328 - val_acc: 0.8990\n"
          ],
          "name": "stdout"
        }
      ]
    },
    {
      "cell_type": "code",
      "metadata": {
        "id": "WhqieqnicITs",
        "colab_type": "code",
        "colab": {}
      },
      "source": [
        "#def RNN():\n",
        "#    inputs = Input(name='inputs',shape=[max_len])\n",
        "#    layer = Embedding(max_words,50,input_length=max_len)(inputs)\n",
        "#    layer = LSTM(64)(layer)\n",
        "#    layer = Dense(256,name='FC1')(layer)\n",
        "#    layer = Activation('relu')(layer)\n",
        "#    layer = Dropout(0.5)(layer)\n",
        "#    layer = Dense(1,name='out_layer')(layer)\n",
        "#    layer = Activation('sigmoid')(layer)\n",
        "#    model = Model(inputs=inputs,outputs=layer)\n",
        "#    return model"
      ],
      "execution_count": 0,
      "outputs": []
    },
    {
      "cell_type": "code",
      "metadata": {
        "id": "7QM3JOlvcITs",
        "colab_type": "code",
        "colab": {}
      },
      "source": [
        "#model = RNN()\n",
        "#model.summary()\n",
        "#model.compile(loss='binary_crossentropy',optimizer=RMSprop(),metrics=['accuracy'])"
      ],
      "execution_count": 0,
      "outputs": []
    },
    {
      "cell_type": "code",
      "metadata": {
        "id": "H0gVkwgycITs",
        "colab_type": "code",
        "colab": {
          "base_uri": "https://localhost:8080/",
          "height": 544
        },
        "outputId": "e99901b3-00fe-417d-82ba-5427ef5da9ad"
      },
      "source": [
        "#Usnig LSTM_SIGMOID\n",
        "acc = history_ltsm.history['acc']\n",
        "val_acc = history_ltsm.history['val_acc']\n",
        "loss = history_ltsm.history['loss']\n",
        "val_loss = history_ltsm.history['val_loss']\n",
        "epochs = range(len(acc))\n",
        "plt.plot(epochs, acc, '-', color='orange', label='training acc')\n",
        "plt.plot(epochs, val_acc, '-', color='blue', label='validation acc')\n",
        "plt.title('Training and validation accuracy')\n",
        "plt.legend()\n",
        "plt.show()\n",
        "\n",
        "plt.plot(epochs, loss, '-', color='orange', label='training acc')\n",
        "plt.plot(epochs, val_loss,  '-', color='blue', label='validation acc')\n",
        "plt.title('Training and validation loss')\n",
        "plt.legend()\n",
        "plt.show()"
      ],
      "execution_count": 68,
      "outputs": [
        {
          "output_type": "display_data",
          "data": {
            "image/png": "[encoded data removed]",
            "text/plain": [
              "<Figure size 432x288 with 1 Axes>"
            ]
          },
          "metadata": {
            "tags": []
          }
        },
        {
          "output_type": "display_data",
          "data": {
            "image/png": "[encoded data removed]",
            "text/plain": [
              "<Figure size 432x288 with 1 Axes>"
            ]
          },
          "metadata": {
            "tags": []
          }
        }
      ]
    },
    {
      "cell_type": "code",
      "metadata": {
        "id": "JAT_kP9VcITs",
        "colab_type": "code",
        "colab": {
          "base_uri": "https://localhost:8080/",
          "height": 143
        },
        "outputId": "2795e298-3b83-4da9-b3d7-0d5278ede0d7"
      },
      "source": [
        "#Usnig LSTM_SIGMOID\n",
        "pred = model.predict_classes(X_test)\n",
        "acc = model.evaluate(X_test, y_test)\n",
        "proba_ltsm = model.predict_proba(X_test)\n",
        "from sklearn.metrics import confusion_matrix\n",
        "print(\"Test loss is {0:.2f} accuracy is {1:.2f}  \".format(acc[0],acc[1]))\n",
        "#print(confusion_matrix(pred, y_test))\n",
        "LS_confusion_test = metrics.confusion_matrix(pred, y_test)\n",
        "pd.DataFrame(data = LS_confusion_test, columns = ['Predicted 0', 'Predicted 1'],\n",
        "            index = ['Actual 0', 'Actual 1'])"
      ],
      "execution_count": 87,
      "outputs": [
        {
          "output_type": "stream",
          "text": [
            "1706/1706 [==============================] - 20s 12ms/step\n",
            "Test loss is 0.38 accuracy is 0.87  \n"
          ],
          "name": "stdout"
        },
        {
          "output_type": "execute_result",
          "data": {
            "text/html": [
              "<div>\n",
              "<style scoped>\n",
              "    .dataframe tbody tr th:only-of-type {\n",
              "        vertical-align: middle;\n",
              "    }\n",
              "\n",
              "    .dataframe tbody tr th {\n",
              "        vertical-align: top;\n",
              "    }\n",
              "\n",
              "    .dataframe thead th {\n",
              "        text-align: right;\n",
              "    }\n",
              "</style>\n",
              "<table border=\"1\" class=\"dataframe\">\n",
              "  <thead>\n",
              "    <tr style=\"text-align: right;\">\n",
              "      <th></th>\n",
              "      <th>Predicted 0</th>\n",
              "      <th>Predicted 1</th>\n",
              "    </tr>\n",
              "  </thead>\n",
              "  <tbody>\n",
              "    <tr>\n",
              "      <th>Actual 0</th>\n",
              "      <td>1485</td>\n",
              "      <td>221</td>\n",
              "    </tr>\n",
              "    <tr>\n",
              "      <th>Actual 1</th>\n",
              "      <td>0</td>\n",
              "      <td>0</td>\n",
              "    </tr>\n",
              "  </tbody>\n",
              "</table>\n",
              "</div>"
            ],
            "text/plain": [
              "          Predicted 0  Predicted 1\n",
              "Actual 0         1485          221\n",
              "Actual 1            0            0"
            ]
          },
          "metadata": {
            "tags": []
          },
          "execution_count": 87
        }
      ]
    },
    {
      "cell_type": "code",
      "metadata": {
        "id": "-44oFLYTdn3W",
        "colab_type": "code",
        "colab": {
          "base_uri": "https://localhost:8080/",
          "height": 745
        },
        "outputId": "02272ca1-200a-44ab-b7d6-7fc0b816369a"
      },
      "source": [
        "#Usnig LSTM_RELU\n",
        "model = Sequential()\n",
        "model.add(Embedding(max_words, 32))\n",
        "#model.add(Embedding(1000, 64, input_length=10))\n",
        "model.add(LSTM(32))\n",
        "model.add(Dense(1, activation='relu'))\n",
        "model.compile(optimizer='rmsprop', loss='binary_crossentropy', metrics=['acc'])\n",
        "history_ltsm_relu = model.fit(X_train, y_train, epochs=20, batch_size=90, validation_split=0.2)"
      ],
      "execution_count": 70,
      "outputs": [
        {
          "output_type": "stream",
          "text": [
            "Train on 2769 samples, validate on 693 samples\n",
            "Epoch 1/20\n",
            "2769/2769 [==============================] - 481s 174ms/step - loss: 2.1072 - acc: 0.8693 - val_loss: 1.6281 - val_acc: 0.8990\n",
            "Epoch 2/20\n",
            "2769/2769 [==============================] - 479s 173ms/step - loss: 2.1072 - acc: 0.8693 - val_loss: 1.6281 - val_acc: 0.8990\n",
            "Epoch 3/20\n",
            "2769/2769 [==============================] - 479s 173ms/step - loss: 2.1072 - acc: 0.8693 - val_loss: 1.6281 - val_acc: 0.8990\n",
            "Epoch 4/20\n",
            "2769/2769 [==============================] - 479s 173ms/step - loss: 2.1072 - acc: 0.8693 - val_loss: 1.6281 - val_acc: 0.8990\n",
            "Epoch 5/20\n",
            "2769/2769 [==============================] - 480s 173ms/step - loss: 2.1072 - acc: 0.8693 - val_loss: 1.6281 - val_acc: 0.8990\n",
            "Epoch 6/20\n",
            "2769/2769 [==============================] - 480s 173ms/step - loss: 2.1072 - acc: 0.8693 - val_loss: 1.6281 - val_acc: 0.8990\n",
            "Epoch 7/20\n",
            "2769/2769 [==============================] - 481s 174ms/step - loss: 2.1072 - acc: 0.8693 - val_loss: 1.6281 - val_acc: 0.8990\n",
            "Epoch 8/20\n",
            "2769/2769 [==============================] - 478s 173ms/step - loss: 2.1072 - acc: 0.8693 - val_loss: 1.6281 - val_acc: 0.8990\n",
            "Epoch 9/20\n",
            "2769/2769 [==============================] - 480s 173ms/step - loss: 2.1072 - acc: 0.8693 - val_loss: 1.6281 - val_acc: 0.8990\n",
            "Epoch 10/20\n",
            "2769/2769 [==============================] - 480s 173ms/step - loss: 2.1072 - acc: 0.8693 - val_loss: 1.6281 - val_acc: 0.8990\n",
            "Epoch 11/20\n",
            "2769/2769 [==============================] - 479s 173ms/step - loss: 2.1072 - acc: 0.8693 - val_loss: 1.6281 - val_acc: 0.8990\n",
            "Epoch 12/20\n",
            "2769/2769 [==============================] - 478s 173ms/step - loss: 2.1072 - acc: 0.8693 - val_loss: 1.6281 - val_acc: 0.8990\n",
            "Epoch 13/20\n",
            "2769/2769 [==============================] - 478s 172ms/step - loss: 2.1072 - acc: 0.8693 - val_loss: 1.6281 - val_acc: 0.8990\n",
            "Epoch 14/20\n",
            "2769/2769 [==============================] - 479s 173ms/step - loss: 2.1072 - acc: 0.8693 - val_loss: 1.6281 - val_acc: 0.8990\n",
            "Epoch 15/20\n",
            "2769/2769 [==============================] - 478s 172ms/step - loss: 2.1072 - acc: 0.8693 - val_loss: 1.6281 - val_acc: 0.8990\n",
            "Epoch 16/20\n",
            "2769/2769 [==============================] - 479s 173ms/step - loss: 2.1072 - acc: 0.8693 - val_loss: 1.6281 - val_acc: 0.8990\n",
            "Epoch 17/20\n",
            "2769/2769 [==============================] - 479s 173ms/step - loss: 2.1072 - acc: 0.8693 - val_loss: 1.6281 - val_acc: 0.8990\n",
            "Epoch 18/20\n",
            "2769/2769 [==============================] - 478s 173ms/step - loss: 2.1072 - acc: 0.8693 - val_loss: 1.6281 - val_acc: 0.8990\n",
            "Epoch 19/20\n",
            "2769/2769 [==============================] - 477s 172ms/step - loss: 2.1072 - acc: 0.8693 - val_loss: 1.6281 - val_acc: 0.8990\n",
            "Epoch 20/20\n",
            "2769/2769 [==============================] - 477s 172ms/step - loss: 2.1072 - acc: 0.8693 - val_loss: 1.6281 - val_acc: 0.8990\n"
          ],
          "name": "stdout"
        }
      ]
    },
    {
      "cell_type": "code",
      "metadata": {
        "id": "QdnImL6uejIr",
        "colab_type": "code",
        "colab": {
          "base_uri": "https://localhost:8080/",
          "height": 544
        },
        "outputId": "03dc486f-11c9-470a-a897-e97ff1ae8732"
      },
      "source": [
        "#Usnig LSTM_RELU\n",
        "acc = history_ltsm_relu.history['acc']\n",
        "val_acc = history_ltsm_relu.history['val_acc']\n",
        "loss = history_ltsm_relu.history['loss']\n",
        "val_loss = history_ltsm_relu.history['val_loss']\n",
        "epochs = range(len(acc))\n",
        "plt.plot(epochs, acc, '-', color='orange', label='training acc')\n",
        "plt.plot(epochs, val_acc, '-', color='blue', label='validation acc')\n",
        "plt.title('ReLu Training and validation accuracy')\n",
        "plt.legend()\n",
        "plt.show()\n",
        "\n",
        "plt.plot(epochs, loss, '-', color='orange', label='training acc')\n",
        "plt.plot(epochs, val_loss,  '-', color='blue', label='validation acc')\n",
        "plt.title('ReLu Training and validation loss')\n",
        "plt.legend()\n",
        "plt.show()"
      ],
      "execution_count": 71,
      "outputs": [
        {
          "output_type": "display_data",
          "data": {
            "image/png": "[encoded data removed]",
            "text/plain": [
              "<Figure size 432x288 with 1 Axes>"
            ]
          },
          "metadata": {
            "tags": []
          }
        },
        {
          "output_type": "display_data",
          "data": {
            "image/png": "[encoded data removed]",
            "text/plain": [
              "<Figure size 432x288 with 1 Axes>"
            ]
          },
          "metadata": {
            "tags": []
          }
        }
      ]
    },
    {
      "cell_type": "code",
      "metadata": {
        "id": "_vdX13rkTdrD",
        "colab_type": "code",
        "colab": {
          "base_uri": "https://localhost:8080/",
          "height": 143
        },
        "outputId": "faee187f-6c6d-4a1f-f7a0-e5577a7f4221"
      },
      "source": [
        "#Usnig LSTM_RELU\n",
        "pred = model.predict_classes(X_test)\n",
        "acc = model.evaluate(X_test, y_test)\n",
        "proba_ltsm = model.predict_proba(X_test)\n",
        "from sklearn.metrics import confusion_matrix\n",
        "print(\"Test loss is {0:.2f} accuracy is {1:.2f}  \".format(acc[0],acc[1]))\n",
        "#print(confusion_matrix(pred, y_test))\n",
        "LR_confusion_test = metrics.confusion_matrix(pred, y_test)\n",
        "pd.DataFrame(data = LR_confusion_test, columns = ['Predicted 0', 'Predicted 1'],\n",
        "            index = ['Actual 0', 'Actual 1'])"
      ],
      "execution_count": 86,
      "outputs": [
        {
          "output_type": "stream",
          "text": [
            "1706/1706 [==============================] - 20s 12ms/step\n",
            "Test loss is 0.38 accuracy is 0.87  \n"
          ],
          "name": "stdout"
        },
        {
          "output_type": "execute_result",
          "data": {
            "text/html": [
              "<div>\n",
              "<style scoped>\n",
              "    .dataframe tbody tr th:only-of-type {\n",
              "        vertical-align: middle;\n",
              "    }\n",
              "\n",
              "    .dataframe tbody tr th {\n",
              "        vertical-align: top;\n",
              "    }\n",
              "\n",
              "    .dataframe thead th {\n",
              "        text-align: right;\n",
              "    }\n",
              "</style>\n",
              "<table border=\"1\" class=\"dataframe\">\n",
              "  <thead>\n",
              "    <tr style=\"text-align: right;\">\n",
              "      <th></th>\n",
              "      <th>Predicted 0</th>\n",
              "      <th>Predicted 1</th>\n",
              "    </tr>\n",
              "  </thead>\n",
              "  <tbody>\n",
              "    <tr>\n",
              "      <th>Actual 0</th>\n",
              "      <td>1485</td>\n",
              "      <td>221</td>\n",
              "    </tr>\n",
              "    <tr>\n",
              "      <th>Actual 1</th>\n",
              "      <td>0</td>\n",
              "      <td>0</td>\n",
              "    </tr>\n",
              "  </tbody>\n",
              "</table>\n",
              "</div>"
            ],
            "text/plain": [
              "          Predicted 0  Predicted 1\n",
              "Actual 0         1485          221\n",
              "Actual 1            0            0"
            ]
          },
          "metadata": {
            "tags": []
          },
          "execution_count": 86
        }
      ]
    },
    {
      "cell_type": "code",
      "metadata": {
        "id": "CNNhNOQiSaZw",
        "colab_type": "code",
        "colab": {
          "base_uri": "https://localhost:8080/",
          "height": 745
        },
        "outputId": "3f2e40d8-97d6-4e66-c2a5-cc7f55655be2"
      },
      "source": [
        "#Usnig RNN\n",
        "model = Sequential()\n",
        "model.add(Embedding(max_words, 32))\n",
        "model.add(SimpleRNN(32))\n",
        "model.add(Dense(1, activation='sigmoid'))\n",
        "\n",
        "model.compile(optimizer='rmsprop', loss='binary_crossentropy', metrics=['acc'])\n",
        "history_rnn = model.fit(X_train, y_train, epochs=20, batch_size=60, validation_split=0.2)"
      ],
      "execution_count": 79,
      "outputs": [
        {
          "output_type": "stream",
          "text": [
            "Train on 2769 samples, validate on 693 samples\n",
            "Epoch 1/20\n",
            "2769/2769 [==============================] - 112s 41ms/step - loss: 0.5249 - acc: 0.8581 - val_loss: 0.3874 - val_acc: 0.8990\n",
            "Epoch 2/20\n",
            "2769/2769 [==============================] - 112s 41ms/step - loss: 0.3940 - acc: 0.8693 - val_loss: 0.3298 - val_acc: 0.8990\n",
            "Epoch 3/20\n",
            "2769/2769 [==============================] - 112s 40ms/step - loss: 0.3895 - acc: 0.8693 - val_loss: 0.3280 - val_acc: 0.8990\n",
            "Epoch 4/20\n",
            "2769/2769 [==============================] - 112s 40ms/step - loss: 0.3889 - acc: 0.8693 - val_loss: 0.3280 - val_acc: 0.8990\n",
            "Epoch 5/20\n",
            "2769/2769 [==============================] - 112s 40ms/step - loss: 0.3887 - acc: 0.8693 - val_loss: 0.3405 - val_acc: 0.8990\n",
            "Epoch 6/20\n",
            "2769/2769 [==============================] - 112s 40ms/step - loss: 0.3889 - acc: 0.8693 - val_loss: 0.3398 - val_acc: 0.8990\n",
            "Epoch 7/20\n",
            "2769/2769 [==============================] - 112s 40ms/step - loss: 0.3890 - acc: 0.8693 - val_loss: 0.3278 - val_acc: 0.8990\n",
            "Epoch 8/20\n",
            "2769/2769 [==============================] - 112s 40ms/step - loss: 0.3983 - acc: 0.8693 - val_loss: 0.3637 - val_acc: 0.8990\n",
            "Epoch 9/20\n",
            "2769/2769 [==============================] - 112s 40ms/step - loss: 0.4029 - acc: 0.8693 - val_loss: 0.3357 - val_acc: 0.8990\n",
            "Epoch 10/20\n",
            "2769/2769 [==============================] - 112s 41ms/step - loss: 0.4031 - acc: 0.8693 - val_loss: 0.3198 - val_acc: 0.8990\n",
            "Epoch 11/20\n",
            "2769/2769 [==============================] - 112s 40ms/step - loss: 0.3906 - acc: 0.8693 - val_loss: 0.3328 - val_acc: 0.8990\n",
            "Epoch 12/20\n",
            "2769/2769 [==============================] - 112s 40ms/step - loss: 0.3874 - acc: 0.8693 - val_loss: 0.3500 - val_acc: 0.8990\n",
            "Epoch 13/20\n",
            "2769/2769 [==============================] - 112s 41ms/step - loss: 0.3924 - acc: 0.8693 - val_loss: 0.3579 - val_acc: 0.8990\n",
            "Epoch 14/20\n",
            "2769/2769 [==============================] - 112s 40ms/step - loss: 0.3913 - acc: 0.8693 - val_loss: 0.3248 - val_acc: 0.8990\n",
            "Epoch 15/20\n",
            "2769/2769 [==============================] - 112s 40ms/step - loss: 0.3895 - acc: 0.8693 - val_loss: 0.3255 - val_acc: 0.8990\n",
            "Epoch 16/20\n",
            "2769/2769 [==============================] - 112s 40ms/step - loss: 0.3884 - acc: 0.8693 - val_loss: 0.3376 - val_acc: 0.8990\n",
            "Epoch 17/20\n",
            "2769/2769 [==============================] - 113s 41ms/step - loss: 0.3878 - acc: 0.8693 - val_loss: 0.3341 - val_acc: 0.8990\n",
            "Epoch 18/20\n",
            "2769/2769 [==============================] - 112s 41ms/step - loss: 0.3893 - acc: 0.8693 - val_loss: 0.3294 - val_acc: 0.8990\n",
            "Epoch 19/20\n",
            "2769/2769 [==============================] - 112s 40ms/step - loss: 0.3877 - acc: 0.8693 - val_loss: 0.3277 - val_acc: 0.8990\n",
            "Epoch 20/20\n",
            "2769/2769 [==============================] - 112s 40ms/step - loss: 0.3866 - acc: 0.8693 - val_loss: 0.3220 - val_acc: 0.8990\n"
          ],
          "name": "stdout"
        }
      ]
    },
    {
      "cell_type": "code",
      "metadata": {
        "id": "1mVV-fiHSqwd",
        "colab_type": "code",
        "colab": {
          "base_uri": "https://localhost:8080/",
          "height": 544
        },
        "outputId": "354c9b22-4e1b-4c0a-e3ce-f43c7aa8f869"
      },
      "source": [
        "#Usnig RNN\n",
        "acc = history_rnn.history['acc']\n",
        "val_acc = history_rnn.history['val_acc']\n",
        "loss = history_rnn.history['loss']\n",
        "val_loss = history_rnn.history['val_loss']\n",
        "epochs = range(len(acc))\n",
        "plt.plot(epochs, acc, '-', color='orange', label='training acc')\n",
        "plt.plot(epochs, val_acc, '-', color='blue', label='validation acc')\n",
        "plt.title('Training and validation accuracy')\n",
        "plt.legend()\n",
        "plt.show()\n",
        "\n",
        "plt.plot(epochs, loss, '-', color='orange', label='training acc')\n",
        "plt.plot(epochs, val_loss,  '-', color='blue', label='validation acc')\n",
        "plt.title('Training and validation loss')\n",
        "plt.legend()\n",
        "plt.show()"
      ],
      "execution_count": 80,
      "outputs": [
        {
          "output_type": "display_data",
          "data": {
            "image/png": "[encoded data removed]",
            "text/plain": [
              "<Figure size 432x288 with 1 Axes>"
            ]
          },
          "metadata": {
            "tags": []
          }
        },
        {
          "output_type": "display_data",
          "data": {
            "image/png": "[encoded data removed]",
            "text/plain": [
              "<Figure size 432x288 with 1 Axes>"
            ]
          },
          "metadata": {
            "tags": []
          }
        }
      ]
    },
    {
      "cell_type": "code",
      "metadata": {
        "id": "fbOisZSoSsA4",
        "colab_type": "code",
        "colab": {
          "base_uri": "https://localhost:8080/",
          "height": 143
        },
        "outputId": "aa969c67-446c-4ace-98a2-1330dbb15a89"
      },
      "source": [
        "#Usnig RNN\n",
        "pred = model.predict_classes(X_test)\n",
        "acc = model.evaluate(X_test, y_test)\n",
        "proba_rnn = model.predict_proba(X_test)\n",
        "from sklearn.metrics import confusion_matrix\n",
        "print(\"Test loss is {0:.2f} accuracy is {1:.2f}  \".format(acc[0],acc[1]))\n",
        "#print(confusion_matrix(pred, y_test))\n",
        "rnn_confusion_test = metrics.confusion_matrix(pred, y_test)\n",
        "pd.DataFrame(data = rnn_confusion_test, columns = ['Predicted 0', 'Predicted 1'],\n",
        "            index = ['Actual 0', 'Actual 1'])"
      ],
      "execution_count": 85,
      "outputs": [
        {
          "output_type": "stream",
          "text": [
            "1706/1706 [==============================] - 20s 12ms/step\n",
            "Test loss is 0.38 accuracy is 0.87  \n"
          ],
          "name": "stdout"
        },
        {
          "output_type": "execute_result",
          "data": {
            "text/html": [
              "<div>\n",
              "<style scoped>\n",
              "    .dataframe tbody tr th:only-of-type {\n",
              "        vertical-align: middle;\n",
              "    }\n",
              "\n",
              "    .dataframe tbody tr th {\n",
              "        vertical-align: top;\n",
              "    }\n",
              "\n",
              "    .dataframe thead th {\n",
              "        text-align: right;\n",
              "    }\n",
              "</style>\n",
              "<table border=\"1\" class=\"dataframe\">\n",
              "  <thead>\n",
              "    <tr style=\"text-align: right;\">\n",
              "      <th></th>\n",
              "      <th>Predicted 0</th>\n",
              "      <th>Predicted 1</th>\n",
              "    </tr>\n",
              "  </thead>\n",
              "  <tbody>\n",
              "    <tr>\n",
              "      <th>Actual 0</th>\n",
              "      <td>1485</td>\n",
              "      <td>221</td>\n",
              "    </tr>\n",
              "    <tr>\n",
              "      <th>Actual 1</th>\n",
              "      <td>0</td>\n",
              "      <td>0</td>\n",
              "    </tr>\n",
              "  </tbody>\n",
              "</table>\n",
              "</div>"
            ],
            "text/plain": [
              "          Predicted 0  Predicted 1\n",
              "Actual 0         1485          221\n",
              "Actual 1            0            0"
            ]
          },
          "metadata": {
            "tags": []
          },
          "execution_count": 85
        }
      ]
    },
    {
      "cell_type": "code",
      "metadata": {
        "id": "2MLVGhKCIGMg",
        "colab_type": "code",
        "colab": {}
      },
      "source": [
        "# After comparing the NB and SVM, we found that \n",
        "# support vector machine with more than 98% accuracy\n",
        "# NB= 97%| SVM = 98% || LSTM_Sigmoid = 87% || LSTM_Relu = 87% ||  RNN = 87%\n",
        "# summery is LSTM / RNN should give more accurate result, but for our run we have tried for epochs=10 to 20, i think more epoch should give above 98% accuracy."
      ],
      "execution_count": 0,
      "outputs": []
    },
    {
      "cell_type": "code",
      "metadata": {
        "id": "F0c6UdzmIM4o",
        "colab_type": "code",
        "colab": {}
      },
      "source": [
        "############# END OF THE PROJECT CODE ############################"
      ],
      "execution_count": 0,
      "outputs": []
    }
  ]
}